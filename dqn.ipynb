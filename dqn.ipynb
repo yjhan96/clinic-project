{
 "cells": [
  {
   "cell_type": "code",
   "execution_count": 1,
   "id": "a41f774e-129d-4624-8c07-20294fa47fb2",
   "metadata": {
    "execution": {
     "iopub.execute_input": "2025-02-26T23:58:01.962052Z",
     "iopub.status.busy": "2025-02-26T23:58:01.961565Z",
     "iopub.status.idle": "2025-02-26T23:58:02.844201Z",
     "shell.execute_reply": "2025-02-26T23:58:02.843776Z",
     "shell.execute_reply.started": "2025-02-26T23:58:01.962023Z"
    }
   },
   "outputs": [],
   "source": [
    "import numpy as np\n",
    "from tqdm import tqdm\n",
    "import gymnasium as gym\n",
    "from gymnasium.wrappers import FlattenObservation, RecordEpisodeStatistics\n",
    "import torch\n",
    "from torch.utils.tensorboard import SummaryWriter\n",
    "from matplotlib import pyplot as plt\n",
    "import matplotlib\n",
    "\n",
    "from clinic_environment import ClinicEnv\n",
    "from clinic_agent import ClinicDQNAgent, ReplayMemory, Transition"
   ]
  },
  {
   "cell_type": "code",
   "execution_count": 2,
   "id": "040f0967-f6e7-4cb4-854d-e8c968b4b1bf",
   "metadata": {
    "execution": {
     "iopub.execute_input": "2025-02-26T23:58:02.844755Z",
     "iopub.status.busy": "2025-02-26T23:58:02.844631Z",
     "iopub.status.idle": "2025-02-26T23:58:02.848352Z",
     "shell.execute_reply": "2025-02-26T23:58:02.847950Z",
     "shell.execute_reply.started": "2025-02-26T23:58:02.844747Z"
    }
   },
   "outputs": [
    {
     "data": {
      "text/plain": [
       "<contextlib.ExitStack at 0x767ff15b0ef0>"
      ]
     },
     "execution_count": 2,
     "metadata": {},
     "output_type": "execute_result"
    }
   ],
   "source": [
    "is_ipython = 'inline' in matplotlib.get_backend()\n",
    "if is_ipython:\n",
    "    from IPython import display\n",
    "\n",
    "plt.ion()"
   ]
  },
  {
   "cell_type": "code",
   "execution_count": 3,
   "id": "9011c6e9-24f0-4277-a56e-75e0015cd9fd",
   "metadata": {
    "execution": {
     "iopub.execute_input": "2025-02-26T23:58:03.381492Z",
     "iopub.status.busy": "2025-02-26T23:58:03.380795Z",
     "iopub.status.idle": "2025-02-26T23:58:03.385907Z",
     "shell.execute_reply": "2025-02-26T23:58:03.385676Z",
     "shell.execute_reply.started": "2025-02-26T23:58:03.381450Z"
    }
   },
   "outputs": [],
   "source": [
    "learning_rate = 1e-4\n",
    "n_episodes = 50_000\n",
    "start_epsilon = 1.0\n",
    "epsilon_decay = start_epsilon / (n_episodes / 2)  # reduce the exploration over tim\n",
    "final_epsilon = 0.1"
   ]
  },
  {
   "cell_type": "code",
   "execution_count": 4,
   "id": "4485b7c1-08a4-41f4-aed8-e5631563324b",
   "metadata": {
    "execution": {
     "iopub.execute_input": "2025-02-26T23:58:03.677489Z",
     "iopub.status.busy": "2025-02-26T23:58:03.676691Z",
     "iopub.status.idle": "2025-02-26T23:58:03.682387Z",
     "shell.execute_reply": "2025-02-26T23:58:03.681755Z",
     "shell.execute_reply.started": "2025-02-26T23:58:03.677457Z"
    }
   },
   "outputs": [],
   "source": [
    "writer = SummaryWriter()"
   ]
  },
  {
   "cell_type": "code",
   "execution_count": 5,
   "id": "55b1fb19-d00f-4d71-ba09-c50c3eb34041",
   "metadata": {
    "execution": {
     "iopub.execute_input": "2025-02-26T23:58:04.045764Z",
     "iopub.status.busy": "2025-02-26T23:58:04.044807Z",
     "iopub.status.idle": "2025-02-26T23:58:04.061512Z",
     "shell.execute_reply": "2025-02-26T23:58:04.060887Z",
     "shell.execute_reply.started": "2025-02-26T23:58:04.045721Z"
    }
   },
   "outputs": [],
   "source": [
    "clinic_capacity = np.array([1, 2])\n",
    "clinic_travel_times = np.array([[0, 10], [10, 0]])\n",
    "patient_times = np.array([30, 40])\n",
    "num_nurses = 2\n",
    "\n",
    "unwrapped_clinic_env = ClinicEnv(clinic_capacity, clinic_travel_times, patient_times, num_nurses)\n",
    "clinic_env = RecordEpisodeStatistics(FlattenObservation(unwrapped_clinic_env))\n",
    "clinic_env.get_valid_actions = unwrapped_clinic_env.get_valid_actions"
   ]
  },
  {
   "cell_type": "code",
   "execution_count": 6,
   "id": "80e7b83e-dd27-4400-a7d4-1dc94b92e1d2",
   "metadata": {
    "execution": {
     "iopub.execute_input": "2025-02-26T23:58:04.981928Z",
     "iopub.status.busy": "2025-02-26T23:58:04.980778Z",
     "iopub.status.idle": "2025-02-26T23:58:05.518495Z",
     "shell.execute_reply": "2025-02-26T23:58:05.518192Z",
     "shell.execute_reply.started": "2025-02-26T23:58:04.981893Z"
    }
   },
   "outputs": [],
   "source": [
    "agent = ClinicDQNAgent(\n",
    "    clinic_env, \n",
    "    learning_rate=learning_rate, \n",
    "    initial_epsilon=start_epsilon,\n",
    "    epsilon_decay=epsilon_decay,\n",
    "    final_epsilon=final_epsilon,\n",
    "    n_iter=n_episodes,\n",
    "    device=\"cuda\",\n",
    "    writer=writer,\n",
    ")"
   ]
  },
  {
   "cell_type": "code",
   "execution_count": 10,
   "id": "fb085026-e64e-47de-8776-feb07711538f",
   "metadata": {
    "execution": {
     "iopub.execute_input": "2025-02-27T00:00:10.983980Z",
     "iopub.status.busy": "2025-02-27T00:00:10.983479Z",
     "iopub.status.idle": "2025-02-27T00:00:10.988634Z",
     "shell.execute_reply": "2025-02-27T00:00:10.987664Z",
     "shell.execute_reply.started": "2025-02-27T00:00:10.983946Z"
    }
   },
   "outputs": [
    {
     "data": {
      "text/plain": [
       "(0,\n",
       " {'nurse_turn': 0,\n",
       "  'nurses': ({'location': 1,\n",
       "    'operating_minutes_left': 0.0,\n",
       "    'traveling_minutes_left': 0.0,\n",
       "    'status': <NurseStatus.IDLE: 1>},\n",
       "   {'location': 1,\n",
       "    'operating_minutes_left': 0.0,\n",
       "    'traveling_minutes_left': 0.0,\n",
       "    'status': <NurseStatus.IDLE: 1>}),\n",
       "  'patients': ({'status': 1,\n",
       "    'treatment_time': 30.0,\n",
       "    'minutes_in_treatment': 0.0,\n",
       "    'treated_at': 0},\n",
       "   {'status': 1,\n",
       "    'treatment_time': 40.0,\n",
       "    'minutes_in_treatment': 0.0,\n",
       "    'treated_at': 0}),\n",
       "  'clinics': ({'capacity': 1.0, 'num_patients': 0.0},\n",
       "   {'capacity': 2.0, 'num_patients': 0.0})})"
      ]
     },
     "execution_count": 10,
     "metadata": {},
     "output_type": "execute_result"
    }
   ],
   "source": [
    "obs, info = unwrapped_clinic_env.reset()"
   ]
  },
  {
   "cell_type": "code",
   "execution_count": 7,
   "id": "b4920115-bf58-4063-a963-9d5151d5af25",
   "metadata": {
    "execution": {
     "iopub.execute_input": "2025-02-25T12:44:03.065013Z",
     "iopub.status.busy": "2025-02-25T12:44:03.064876Z",
     "iopub.status.idle": "2025-02-25T12:44:03.067196Z",
     "shell.execute_reply": "2025-02-25T12:44:03.066951Z",
     "shell.execute_reply.started": "2025-02-25T12:44:03.065006Z"
    }
   },
   "outputs": [],
   "source": [
    "def play_episode(env, agent, randomize: bool = True):\n",
    "    obs, info = env.reset()\n",
    "    done = False\n",
    "\n",
    "    total_reward = 0\n",
    "    while not done:\n",
    "        action = agent.get_action(obs, randomize=randomize)\n",
    "        next_obs, reward, terminated, truncated, info = env.step(action.item())\n",
    "\n",
    "        agent.update(obs, action, reward, terminated, next_obs)\n",
    "\n",
    "        done = terminated or truncated\n",
    "        obs = next_obs\n",
    "        total_reward += reward\n",
    "\n",
    "    return total_reward"
   ]
  },
  {
   "cell_type": "code",
   "execution_count": 8,
   "id": "4157805e-db6a-4cae-bda5-c4a0e6e376af",
   "metadata": {
    "execution": {
     "iopub.execute_input": "2025-02-25T12:44:03.067525Z",
     "iopub.status.busy": "2025-02-25T12:44:03.067430Z",
     "iopub.status.idle": "2025-02-25T12:45:24.802699Z",
     "shell.execute_reply": "2025-02-25T12:45:24.802350Z",
     "shell.execute_reply.started": "2025-02-25T12:44:03.067518Z"
    }
   },
   "outputs": [
    {
     "name": "stderr",
     "output_type": "stream",
     "text": [
      "  7%|███▊                                                   | 3411/50000 [01:19<18:09, 42.74it/s]\n"
     ]
    },
    {
     "ename": "KeyboardInterrupt",
     "evalue": "",
     "output_type": "error",
     "traceback": [
      "\u001b[0;31m---------------------------------------------------------------------------\u001b[0m",
      "\u001b[0;31mKeyboardInterrupt\u001b[0m                         Traceback (most recent call last)",
      "Cell \u001b[0;32mIn[8], line 6\u001b[0m\n\u001b[1;32m      3\u001b[0m     play_episode(clinic_env, agent)\n\u001b[1;32m      5\u001b[0m \u001b[38;5;28;01mfor\u001b[39;00m i \u001b[38;5;129;01min\u001b[39;00m tqdm(\u001b[38;5;28mrange\u001b[39m(n_episodes)):\n\u001b[0;32m----> 6\u001b[0m     total_reward \u001b[38;5;241m=\u001b[39m \u001b[43mplay_episode\u001b[49m\u001b[43m(\u001b[49m\u001b[43mclinic_env\u001b[49m\u001b[43m,\u001b[49m\u001b[43m \u001b[49m\u001b[43magent\u001b[49m\u001b[43m)\u001b[49m\n\u001b[1;32m      7\u001b[0m     writer\u001b[38;5;241m.\u001b[39madd_scalar(\u001b[38;5;124m\"\u001b[39m\u001b[38;5;124mtotal reward\u001b[39m\u001b[38;5;124m\"\u001b[39m, total_reward, i)\n\u001b[1;32m      9\u001b[0m     agent\u001b[38;5;241m.\u001b[39mdecay_epsilon()\n",
      "Cell \u001b[0;32mIn[7], line 10\u001b[0m, in \u001b[0;36mplay_episode\u001b[0;34m(env, agent, randomize)\u001b[0m\n\u001b[1;32m      7\u001b[0m action \u001b[38;5;241m=\u001b[39m agent\u001b[38;5;241m.\u001b[39mget_action(obs, randomize\u001b[38;5;241m=\u001b[39mrandomize)\n\u001b[1;32m      8\u001b[0m next_obs, reward, terminated, truncated, info \u001b[38;5;241m=\u001b[39m env\u001b[38;5;241m.\u001b[39mstep(action\u001b[38;5;241m.\u001b[39mitem())\n\u001b[0;32m---> 10\u001b[0m \u001b[43magent\u001b[49m\u001b[38;5;241;43m.\u001b[39;49m\u001b[43mupdate\u001b[49m\u001b[43m(\u001b[49m\u001b[43mobs\u001b[49m\u001b[43m,\u001b[49m\u001b[43m \u001b[49m\u001b[43maction\u001b[49m\u001b[43m,\u001b[49m\u001b[43m \u001b[49m\u001b[43mreward\u001b[49m\u001b[43m,\u001b[49m\u001b[43m \u001b[49m\u001b[43mterminated\u001b[49m\u001b[43m,\u001b[49m\u001b[43m \u001b[49m\u001b[43mnext_obs\u001b[49m\u001b[43m)\u001b[49m\n\u001b[1;32m     12\u001b[0m done \u001b[38;5;241m=\u001b[39m terminated \u001b[38;5;129;01mor\u001b[39;00m truncated\n\u001b[1;32m     13\u001b[0m obs \u001b[38;5;241m=\u001b[39m next_obs\n",
      "File \u001b[0;32m~/clinic-project/clinic_agent.py:250\u001b[0m, in \u001b[0;36mClinicDQNAgent.update\u001b[0;34m(self, state, action, reward, terminated, next_state)\u001b[0m\n\u001b[1;32m    244\u001b[0m     next_state \u001b[38;5;241m=\u001b[39m torch\u001b[38;5;241m.\u001b[39mtensor(\n\u001b[1;32m    245\u001b[0m         next_state, dtype\u001b[38;5;241m=\u001b[39mtorch\u001b[38;5;241m.\u001b[39mfloat32, device\u001b[38;5;241m=\u001b[39m\u001b[38;5;28mself\u001b[39m\u001b[38;5;241m.\u001b[39mdevice\n\u001b[1;32m    246\u001b[0m     )\u001b[38;5;241m.\u001b[39munsqueeze(\u001b[38;5;241m0\u001b[39m)\n\u001b[1;32m    248\u001b[0m \u001b[38;5;28mself\u001b[39m\u001b[38;5;241m.\u001b[39mmemory\u001b[38;5;241m.\u001b[39mpush(state, action, next_state, reward)\n\u001b[0;32m--> 250\u001b[0m \u001b[38;5;28;43mself\u001b[39;49m\u001b[38;5;241;43m.\u001b[39;49m\u001b[43moptimize_model\u001b[49m\u001b[43m(\u001b[49m\u001b[43m)\u001b[49m\n\u001b[1;32m    252\u001b[0m target_net_state_dict \u001b[38;5;241m=\u001b[39m \u001b[38;5;28mself\u001b[39m\u001b[38;5;241m.\u001b[39mtarget_net\u001b[38;5;241m.\u001b[39mstate_dict()\n\u001b[1;32m    253\u001b[0m policy_net_state_dict \u001b[38;5;241m=\u001b[39m \u001b[38;5;28mself\u001b[39m\u001b[38;5;241m.\u001b[39mpolicy_net\u001b[38;5;241m.\u001b[39mstate_dict()\n",
      "File \u001b[0;32m~/clinic-project/clinic_agent.py:230\u001b[0m, in \u001b[0;36mClinicDQNAgent.optimize_model\u001b[0;34m(self)\u001b[0m\n\u001b[1;32m    227\u001b[0m \u001b[38;5;28mself\u001b[39m\u001b[38;5;241m.\u001b[39mbatch_idx \u001b[38;5;241m+\u001b[39m\u001b[38;5;241m=\u001b[39m \u001b[38;5;241m1\u001b[39m\n\u001b[1;32m    229\u001b[0m \u001b[38;5;28mself\u001b[39m\u001b[38;5;241m.\u001b[39moptimizer\u001b[38;5;241m.\u001b[39mzero_grad()\n\u001b[0;32m--> 230\u001b[0m \u001b[43mloss\u001b[49m\u001b[38;5;241;43m.\u001b[39;49m\u001b[43mbackward\u001b[49m\u001b[43m(\u001b[49m\u001b[43m)\u001b[49m\n\u001b[1;32m    232\u001b[0m torch\u001b[38;5;241m.\u001b[39mnn\u001b[38;5;241m.\u001b[39mutils\u001b[38;5;241m.\u001b[39mclip_grad_value_(\u001b[38;5;28mself\u001b[39m\u001b[38;5;241m.\u001b[39mpolicy_net\u001b[38;5;241m.\u001b[39mparameters(), \u001b[38;5;241m100\u001b[39m)\n\u001b[1;32m    233\u001b[0m \u001b[38;5;28mself\u001b[39m\u001b[38;5;241m.\u001b[39moptimizer\u001b[38;5;241m.\u001b[39mstep()\n",
      "File \u001b[0;32m~/clinic-project/env/lib/python3.12/site-packages/torch/_tensor.py:626\u001b[0m, in \u001b[0;36mTensor.backward\u001b[0;34m(self, gradient, retain_graph, create_graph, inputs)\u001b[0m\n\u001b[1;32m    616\u001b[0m \u001b[38;5;28;01mif\u001b[39;00m has_torch_function_unary(\u001b[38;5;28mself\u001b[39m):\n\u001b[1;32m    617\u001b[0m     \u001b[38;5;28;01mreturn\u001b[39;00m handle_torch_function(\n\u001b[1;32m    618\u001b[0m         Tensor\u001b[38;5;241m.\u001b[39mbackward,\n\u001b[1;32m    619\u001b[0m         (\u001b[38;5;28mself\u001b[39m,),\n\u001b[0;32m   (...)\u001b[0m\n\u001b[1;32m    624\u001b[0m         inputs\u001b[38;5;241m=\u001b[39minputs,\n\u001b[1;32m    625\u001b[0m     )\n\u001b[0;32m--> 626\u001b[0m \u001b[43mtorch\u001b[49m\u001b[38;5;241;43m.\u001b[39;49m\u001b[43mautograd\u001b[49m\u001b[38;5;241;43m.\u001b[39;49m\u001b[43mbackward\u001b[49m\u001b[43m(\u001b[49m\n\u001b[1;32m    627\u001b[0m \u001b[43m    \u001b[49m\u001b[38;5;28;43mself\u001b[39;49m\u001b[43m,\u001b[49m\u001b[43m \u001b[49m\u001b[43mgradient\u001b[49m\u001b[43m,\u001b[49m\u001b[43m \u001b[49m\u001b[43mretain_graph\u001b[49m\u001b[43m,\u001b[49m\u001b[43m \u001b[49m\u001b[43mcreate_graph\u001b[49m\u001b[43m,\u001b[49m\u001b[43m \u001b[49m\u001b[43minputs\u001b[49m\u001b[38;5;241;43m=\u001b[39;49m\u001b[43minputs\u001b[49m\n\u001b[1;32m    628\u001b[0m \u001b[43m\u001b[49m\u001b[43m)\u001b[49m\n",
      "File \u001b[0;32m~/clinic-project/env/lib/python3.12/site-packages/torch/autograd/__init__.py:347\u001b[0m, in \u001b[0;36mbackward\u001b[0;34m(tensors, grad_tensors, retain_graph, create_graph, grad_variables, inputs)\u001b[0m\n\u001b[1;32m    342\u001b[0m     retain_graph \u001b[38;5;241m=\u001b[39m create_graph\n\u001b[1;32m    344\u001b[0m \u001b[38;5;66;03m# The reason we repeat the same comment below is that\u001b[39;00m\n\u001b[1;32m    345\u001b[0m \u001b[38;5;66;03m# some Python versions print out the first line of a multi-line function\u001b[39;00m\n\u001b[1;32m    346\u001b[0m \u001b[38;5;66;03m# calls in the traceback and some print out the last line\u001b[39;00m\n\u001b[0;32m--> 347\u001b[0m \u001b[43m_engine_run_backward\u001b[49m\u001b[43m(\u001b[49m\n\u001b[1;32m    348\u001b[0m \u001b[43m    \u001b[49m\u001b[43mtensors\u001b[49m\u001b[43m,\u001b[49m\n\u001b[1;32m    349\u001b[0m \u001b[43m    \u001b[49m\u001b[43mgrad_tensors_\u001b[49m\u001b[43m,\u001b[49m\n\u001b[1;32m    350\u001b[0m \u001b[43m    \u001b[49m\u001b[43mretain_graph\u001b[49m\u001b[43m,\u001b[49m\n\u001b[1;32m    351\u001b[0m \u001b[43m    \u001b[49m\u001b[43mcreate_graph\u001b[49m\u001b[43m,\u001b[49m\n\u001b[1;32m    352\u001b[0m \u001b[43m    \u001b[49m\u001b[43minputs\u001b[49m\u001b[43m,\u001b[49m\n\u001b[1;32m    353\u001b[0m \u001b[43m    \u001b[49m\u001b[43mallow_unreachable\u001b[49m\u001b[38;5;241;43m=\u001b[39;49m\u001b[38;5;28;43;01mTrue\u001b[39;49;00m\u001b[43m,\u001b[49m\n\u001b[1;32m    354\u001b[0m \u001b[43m    \u001b[49m\u001b[43maccumulate_grad\u001b[49m\u001b[38;5;241;43m=\u001b[39;49m\u001b[38;5;28;43;01mTrue\u001b[39;49;00m\u001b[43m,\u001b[49m\n\u001b[1;32m    355\u001b[0m \u001b[43m\u001b[49m\u001b[43m)\u001b[49m\n",
      "File \u001b[0;32m~/clinic-project/env/lib/python3.12/site-packages/torch/autograd/graph.py:823\u001b[0m, in \u001b[0;36m_engine_run_backward\u001b[0;34m(t_outputs, *args, **kwargs)\u001b[0m\n\u001b[1;32m    821\u001b[0m     unregister_hooks \u001b[38;5;241m=\u001b[39m _register_logging_hooks_on_whole_graph(t_outputs)\n\u001b[1;32m    822\u001b[0m \u001b[38;5;28;01mtry\u001b[39;00m:\n\u001b[0;32m--> 823\u001b[0m     \u001b[38;5;28;01mreturn\u001b[39;00m \u001b[43mVariable\u001b[49m\u001b[38;5;241;43m.\u001b[39;49m\u001b[43m_execution_engine\u001b[49m\u001b[38;5;241;43m.\u001b[39;49m\u001b[43mrun_backward\u001b[49m\u001b[43m(\u001b[49m\u001b[43m  \u001b[49m\u001b[38;5;66;43;03m# Calls into the C++ engine to run the backward pass\u001b[39;49;00m\n\u001b[1;32m    824\u001b[0m \u001b[43m        \u001b[49m\u001b[43mt_outputs\u001b[49m\u001b[43m,\u001b[49m\u001b[43m \u001b[49m\u001b[38;5;241;43m*\u001b[39;49m\u001b[43margs\u001b[49m\u001b[43m,\u001b[49m\u001b[43m \u001b[49m\u001b[38;5;241;43m*\u001b[39;49m\u001b[38;5;241;43m*\u001b[39;49m\u001b[43mkwargs\u001b[49m\n\u001b[1;32m    825\u001b[0m \u001b[43m    \u001b[49m\u001b[43m)\u001b[49m  \u001b[38;5;66;03m# Calls into the C++ engine to run the backward pass\u001b[39;00m\n\u001b[1;32m    826\u001b[0m \u001b[38;5;28;01mfinally\u001b[39;00m:\n\u001b[1;32m    827\u001b[0m     \u001b[38;5;28;01mif\u001b[39;00m attach_logging_hooks:\n",
      "\u001b[0;31mKeyboardInterrupt\u001b[0m: "
     ]
    }
   ],
   "source": [
    "reward_per_episode = []\n",
    "while len(agent.memory) <= 5_000:\n",
    "    play_episode(clinic_env, agent)\n",
    "\n",
    "for i in tqdm(range(n_episodes)):\n",
    "    total_reward = play_episode(clinic_env, agent)\n",
    "    writer.add_scalar(\"total reward\", total_reward, i)\n",
    "\n",
    "    agent.decay_epsilon()\n",
    "    agent.update_lr()\n",
    "\n",
    "    writer.add_scalar(\"Learning rate\", agent.scheduler.get_last_lr()[0], i)"
   ]
  },
  {
   "cell_type": "code",
   "execution_count": null,
   "id": "51e436ab-1e9b-4294-a634-a59d5b09ecbf",
   "metadata": {
    "execution": {
     "iopub.status.busy": "2025-02-22T16:10:27.496239Z",
     "iopub.status.idle": "2025-02-22T16:10:27.496366Z",
     "shell.execute_reply": "2025-02-22T16:10:27.496314Z",
     "shell.execute_reply.started": "2025-02-22T16:10:27.496309Z"
    }
   },
   "outputs": [],
   "source": [
    "play_episode(clinic_env, agent, randomize=True)"
   ]
  },
  {
   "cell_type": "code",
   "execution_count": null,
   "id": "fa1b69a1-860d-4685-9e74-a7d665f1cdba",
   "metadata": {},
   "outputs": [],
   "source": []
  }
 ],
 "metadata": {
  "kernelspec": {
   "display_name": "clinic",
   "language": "python",
   "name": "clinic"
  },
  "language_info": {
   "codemirror_mode": {
    "name": "ipython",
    "version": 3
   },
   "file_extension": ".py",
   "mimetype": "text/x-python",
   "name": "python",
   "nbconvert_exporter": "python",
   "pygments_lexer": "ipython3",
   "version": "3.12.3"
  }
 },
 "nbformat": 4,
 "nbformat_minor": 5
}
