{
 "cells": [
  {
   "cell_type": "code",
   "execution_count": 1,
   "id": "a41f774e-129d-4624-8c07-20294fa47fb2",
   "metadata": {
    "execution": {
     "iopub.execute_input": "2025-02-27T12:23:29.903164Z",
     "iopub.status.busy": "2025-02-27T12:23:29.902896Z",
     "iopub.status.idle": "2025-02-27T12:23:30.849794Z",
     "shell.execute_reply": "2025-02-27T12:23:30.849409Z",
     "shell.execute_reply.started": "2025-02-27T12:23:29.903138Z"
    }
   },
   "outputs": [],
   "source": [
    "import numpy as np\n",
    "from tqdm import tqdm\n",
    "import gymnasium as gym\n",
    "from gymnasium.wrappers import FlattenObservation, RecordEpisodeStatistics\n",
    "import torch\n",
    "from torch.utils.tensorboard import SummaryWriter\n",
    "from matplotlib import pyplot as plt\n",
    "import matplotlib\n",
    "\n",
    "from clinic_environment import ClinicEnv\n",
    "from clinic_agent import ClinicDQNAgent, ReplayMemory, Transition"
   ]
  },
  {
   "cell_type": "code",
   "execution_count": 2,
   "id": "040f0967-f6e7-4cb4-854d-e8c968b4b1bf",
   "metadata": {
    "execution": {
     "iopub.execute_input": "2025-02-27T12:23:30.850250Z",
     "iopub.status.busy": "2025-02-27T12:23:30.850122Z",
     "iopub.status.idle": "2025-02-27T12:23:30.853595Z",
     "shell.execute_reply": "2025-02-27T12:23:30.853427Z",
     "shell.execute_reply.started": "2025-02-27T12:23:30.850241Z"
    }
   },
   "outputs": [
    {
     "data": {
      "text/plain": [
       "<contextlib.ExitStack at 0x762b9a9bc470>"
      ]
     },
     "execution_count": 2,
     "metadata": {},
     "output_type": "execute_result"
    }
   ],
   "source": [
    "is_ipython = 'inline' in matplotlib.get_backend()\n",
    "if is_ipython:\n",
    "    from IPython import display\n",
    "\n",
    "plt.ion()"
   ]
  },
  {
   "cell_type": "code",
   "execution_count": 9,
   "id": "9011c6e9-24f0-4277-a56e-75e0015cd9fd",
   "metadata": {
    "execution": {
     "iopub.execute_input": "2025-02-27T12:46:14.952409Z",
     "iopub.status.busy": "2025-02-27T12:46:14.952033Z",
     "iopub.status.idle": "2025-02-27T12:46:14.954726Z",
     "shell.execute_reply": "2025-02-27T12:46:14.954533Z",
     "shell.execute_reply.started": "2025-02-27T12:46:14.952401Z"
    }
   },
   "outputs": [],
   "source": [
    "learning_rate = 1e-4\n",
    "n_episodes = 20_000\n",
    "start_epsilon = 1.0\n",
    "epsilon_decay = start_epsilon / (n_episodes / 2)  # reduce the exploration over tim\n",
    "final_epsilon = 0.1"
   ]
  },
  {
   "cell_type": "code",
   "execution_count": 10,
   "id": "4485b7c1-08a4-41f4-aed8-e5631563324b",
   "metadata": {
    "execution": {
     "iopub.execute_input": "2025-02-27T12:46:15.357201Z",
     "iopub.status.busy": "2025-02-27T12:46:15.356816Z",
     "iopub.status.idle": "2025-02-27T12:46:15.361910Z",
     "shell.execute_reply": "2025-02-27T12:46:15.361724Z",
     "shell.execute_reply.started": "2025-02-27T12:46:15.357174Z"
    }
   },
   "outputs": [],
   "source": [
    "writer = SummaryWriter()"
   ]
  },
  {
   "cell_type": "code",
   "execution_count": 11,
   "id": "55b1fb19-d00f-4d71-ba09-c50c3eb34041",
   "metadata": {
    "execution": {
     "iopub.execute_input": "2025-02-27T12:46:21.030257Z",
     "iopub.status.busy": "2025-02-27T12:46:21.029861Z",
     "iopub.status.idle": "2025-02-27T12:46:21.038331Z",
     "shell.execute_reply": "2025-02-27T12:46:21.037553Z",
     "shell.execute_reply.started": "2025-02-27T12:46:21.030230Z"
    }
   },
   "outputs": [],
   "source": [
    "clinic_capacity = np.array([1, 2])\n",
    "clinic_travel_times = np.array([[0, 10], [10, 0]])\n",
    "patient_times = np.array([30, 40, 50])\n",
    "num_nurses = 3\n",
    "\n",
    "clinic_env = ClinicEnv(clinic_capacity, clinic_travel_times, patient_times, num_nurses)\n",
    "# clinic_env = RecordEpisodeStatistics(FlattenObservation(unwrapped_clinic_env))\n",
    "# clinic_env.get_valid_actions = unwrapped_clinic_env.get_valid_actions"
   ]
  },
  {
   "cell_type": "code",
   "execution_count": 12,
   "id": "80e7b83e-dd27-4400-a7d4-1dc94b92e1d2",
   "metadata": {
    "execution": {
     "iopub.execute_input": "2025-02-27T12:46:21.389618Z",
     "iopub.status.busy": "2025-02-27T12:46:21.389229Z",
     "iopub.status.idle": "2025-02-27T12:46:21.825262Z",
     "shell.execute_reply": "2025-02-27T12:46:21.824976Z",
     "shell.execute_reply.started": "2025-02-27T12:46:21.389589Z"
    }
   },
   "outputs": [],
   "source": [
    "agent = ClinicDQNAgent(\n",
    "    clinic_env, \n",
    "    learning_rate=learning_rate, \n",
    "    initial_epsilon=start_epsilon,\n",
    "    epsilon_decay=epsilon_decay,\n",
    "    final_epsilon=final_epsilon,\n",
    "    n_iter=n_episodes,\n",
    "    device=\"cuda\",\n",
    "    writer=writer,\n",
    ")"
   ]
  },
  {
   "cell_type": "code",
   "execution_count": 13,
   "id": "b4920115-bf58-4063-a963-9d5151d5af25",
   "metadata": {
    "execution": {
     "iopub.execute_input": "2025-02-27T12:46:21.885644Z",
     "iopub.status.busy": "2025-02-27T12:46:21.885472Z",
     "iopub.status.idle": "2025-02-27T12:46:21.888373Z",
     "shell.execute_reply": "2025-02-27T12:46:21.888088Z",
     "shell.execute_reply.started": "2025-02-27T12:46:21.885634Z"
    }
   },
   "outputs": [],
   "source": [
    "def play_episode(env, agent, randomize: bool = True):\n",
    "    obs, info = env.reset()\n",
    "    done = False\n",
    "\n",
    "    total_reward = 0\n",
    "    while not done:\n",
    "        action = agent.get_action(obs, randomize=randomize)\n",
    "        next_obs, reward, terminated, truncated, info = env.step(action.item())\n",
    "\n",
    "        agent.update(obs, action, reward, terminated, next_obs)\n",
    "\n",
    "        done = terminated or truncated\n",
    "        obs = next_obs\n",
    "        total_reward += reward\n",
    "\n",
    "    return total_reward"
   ]
  },
  {
   "cell_type": "code",
   "execution_count": 14,
   "id": "4157805e-db6a-4cae-bda5-c4a0e6e376af",
   "metadata": {
    "execution": {
     "iopub.execute_input": "2025-02-27T12:46:22.208575Z",
     "iopub.status.busy": "2025-02-27T12:46:22.208204Z",
     "iopub.status.idle": "2025-02-27T13:51:40.920612Z",
     "shell.execute_reply": "2025-02-27T13:51:40.920283Z",
     "shell.execute_reply.started": "2025-02-27T12:46:22.208548Z"
    }
   },
   "outputs": [
    {
     "name": "stderr",
     "output_type": "stream",
     "text": [
      "100%|██████████████████████████████████████████████████████████████████████████████████████████████████████████████████████████████████████████████| 20000/20000 [1:05:18<00:00,  5.10it/s]\n"
     ]
    }
   ],
   "source": [
    "for i in tqdm(range(n_episodes)):\n",
    "    total_reward = play_episode(clinic_env, agent)\n",
    "    writer.add_scalar(\"total reward\", total_reward, i)\n",
    "\n",
    "    agent.decay_epsilon()\n",
    "    # agent.update_lr()\n",
    "\n",
    "    # writer.add_scalar(\"Learning rate\", agent.scheduler.get_last_lr()[0], i)"
   ]
  },
  {
   "cell_type": "code",
   "execution_count": 10,
   "id": "51e436ab-1e9b-4294-a634-a59d5b09ecbf",
   "metadata": {
    "execution": {
     "iopub.execute_input": "2025-02-27T01:37:45.132119Z",
     "iopub.status.busy": "2025-02-27T01:37:45.131762Z",
     "iopub.status.idle": "2025-02-27T01:37:45.378940Z",
     "shell.execute_reply": "2025-02-27T01:37:45.378526Z",
     "shell.execute_reply.started": "2025-02-27T01:37:45.132098Z"
    }
   },
   "outputs": [
    {
     "data": {
      "text/plain": [
       "0.018518518518518517"
      ]
     },
     "execution_count": 10,
     "metadata": {},
     "output_type": "execute_result"
    }
   ],
   "source": [
    "play_episode(clinic_env, agent, randomize=True)"
   ]
  },
  {
   "cell_type": "code",
   "execution_count": null,
   "id": "fa1b69a1-860d-4685-9e74-a7d665f1cdba",
   "metadata": {},
   "outputs": [],
   "source": []
  }
 ],
 "metadata": {
  "kernelspec": {
   "display_name": "clinic",
   "language": "python",
   "name": "clinic"
  },
  "language_info": {
   "codemirror_mode": {
    "name": "ipython",
    "version": 3
   },
   "file_extension": ".py",
   "mimetype": "text/x-python",
   "name": "python",
   "nbconvert_exporter": "python",
   "pygments_lexer": "ipython3",
   "version": "3.12.3"
  }
 },
 "nbformat": 4,
 "nbformat_minor": 5
}
