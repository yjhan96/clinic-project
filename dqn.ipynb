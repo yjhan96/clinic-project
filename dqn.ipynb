{
 "cells": [
  {
   "cell_type": "code",
   "execution_count": 1,
   "id": "a41f774e-129d-4624-8c07-20294fa47fb2",
   "metadata": {},
   "outputs": [],
   "source": [
    "import numpy as np\n",
    "from tqdm import tqdm\n",
    "import gymnasium as gym\n",
    "from gymnasium.wrappers import FlattenObservation, RecordEpisodeStatistics\n",
    "import torch\n",
    "from matplotlib import pyplot as plt\n",
    "import matplotlib\n",
    "\n",
    "from clinic_environment import ClinicEnv\n",
    "from clinic_agent import ClinicDQNAgent"
   ]
  },
  {
   "cell_type": "code",
   "execution_count": 2,
   "id": "040f0967-f6e7-4cb4-854d-e8c968b4b1bf",
   "metadata": {},
   "outputs": [
    {
     "data": {
      "text/plain": [
       "<contextlib.ExitStack at 0x10bbbf5f0>"
      ]
     },
     "execution_count": 2,
     "metadata": {},
     "output_type": "execute_result"
    }
   ],
   "source": [
    "is_ipython = 'inline' in matplotlib.get_backend()\n",
    "if is_ipython:\n",
    "    from IPython import display\n",
    "\n",
    "plt.ion()"
   ]
  },
  {
   "cell_type": "code",
   "execution_count": 3,
   "id": "9011c6e9-24f0-4277-a56e-75e0015cd9fd",
   "metadata": {},
   "outputs": [],
   "source": [
    "learning_rate = 1e-4\n",
    "n_episodes = 1_000\n",
    "start_epsilon = 1.0\n",
    "epsilon_decay = start_epsilon / (n_episodes / 2)  # reduce the exploration over time\n",
    "final_epsilon = 0.1"
   ]
  },
  {
   "cell_type": "code",
   "execution_count": 4,
   "id": "55b1fb19-d00f-4d71-ba09-c50c3eb34041",
   "metadata": {},
   "outputs": [],
   "source": [
    "clinic_capacity = np.array([1, 2])\n",
    "clinic_travel_times = np.array([[0, 10], [10, 0]])\n",
    "patient_times = np.array([30, 40])\n",
    "num_nurses = 2\n",
    "\n",
    "unwrapped_clinic_env = ClinicEnv(clinic_capacity, clinic_travel_times, patient_times, num_nurses)\n",
    "clinic_env = RecordEpisodeStatistics(FlattenObservation(unwrapped_clinic_env))\n",
    "clinic_env.get_valid_actions = unwrapped_clinic_env.get_valid_actions"
   ]
  },
  {
   "cell_type": "code",
   "execution_count": 5,
   "id": "80e7b83e-dd27-4400-a7d4-1dc94b92e1d2",
   "metadata": {},
   "outputs": [],
   "source": [
    "agent = ClinicDQNAgent(\n",
    "    clinic_env, \n",
    "    learning_rate=learning_rate, \n",
    "    initial_epsilon=start_epsilon,\n",
    "    epsilon_decay=epsilon_decay,\n",
    "    final_epsilon=final_epsilon,\n",
    ")"
   ]
  },
  {
   "cell_type": "code",
   "execution_count": 6,
   "id": "3344449e-9c95-4de9-9b76-75f01d14ed4c",
   "metadata": {},
   "outputs": [],
   "source": [
    "def plot_reward(reward_per_episode, show_result=False):\n",
    "    plt.figure(1)\n",
    "    rewards_t = torch.tensor(reward_per_episode, dtype=torch.float)\n",
    "    if show_result:\n",
    "        plt.title('Result')\n",
    "    else:\n",
    "        plt.clf()\n",
    "        plt.title('Training...')\n",
    "    plt.xlabel('Episode')\n",
    "    plt.ylabel('Reward')\n",
    "    plt.plot(rewards_t.numpy())\n",
    "    # Take 100 episode averages and plot them too\n",
    "    if len(rewards_t) >= 100:\n",
    "        means = rewards_t.unfold(0, 100, 1).mean(1).view(-1)\n",
    "        means = torch.cat((torch.zeros(99), means))\n",
    "        plt.plot(means.numpy())\n",
    "\n",
    "    plt.pause(0.001)  # pause a bit so that plots are updated\n",
    "    if is_ipython:\n",
    "        if not show_result:\n",
    "            display.display(plt.gcf())\n",
    "            display.clear_output(wait=True)\n",
    "        else:\n",
    "            display.display(plt.gcf())\n",
    "            "
   ]
  },
  {
   "cell_type": "code",
   "execution_count": 18,
   "id": "83d9d7db-ba85-4661-8557-e4e2db218fb2",
   "metadata": {},
   "outputs": [
    {
     "data": {
      "text/plain": [
       "tensor([[1]])"
      ]
     },
     "execution_count": 18,
     "metadata": {},
     "output_type": "execute_result"
    }
   ],
   "source": [
    "x = torch.tensor([[1, 2, 3]])\n",
    "mask = torch.tensor([[True, True, False]])\n",
    "x[mask].unsqueeze(0).max(1).indices.view(1, 1)"
   ]
  },
  {
   "cell_type": "code",
   "execution_count": 10,
   "id": "d32665c1-43f5-4895-9f71-6877c0a947a3",
   "metadata": {},
   "outputs": [
    {
     "data": {
      "text/plain": [
       "0.5"
      ]
     },
     "execution_count": 10,
     "metadata": {},
     "output_type": "execute_result"
    }
   ],
   "source": [
    "torch.nn.SmoothL1Loss()(torch.tensor([[1.], [2.]]), torch.tensor([[2.], [3.]])).item()"
   ]
  },
  {
   "cell_type": "code",
   "execution_count": 7,
   "id": "4157805e-db6a-4cae-bda5-c4a0e6e376af",
   "metadata": {},
   "outputs": [
    {
     "data": {
      "text/plain": [
       "<Figure size 640x480 with 0 Axes>"
      ]
     },
     "metadata": {},
     "output_type": "display_data"
    }
   ],
   "source": [
    "reward_per_episode = []\n",
    "for episode in range(n_episodes):\n",
    "    obs, info = clinic_env.reset()\n",
    "    done = False\n",
    "\n",
    "    # play one episode\n",
    "    total_reward = 0\n",
    "    while not done:\n",
    "        action = agent.get_action(obs)\n",
    "        next_obs, reward, terminated, truncated, info = clinic_env.step(action.item())\n",
    "\n",
    "        # update the agent\n",
    "        agent.update(obs, action, reward, terminated, next_obs)\n",
    "\n",
    "        # update if the environment is done and the current obs\n",
    "        done = terminated or truncated\n",
    "        obs = next_obs\n",
    "        total_reward += reward\n",
    "        \n",
    "    reward_per_episode.append(total_reward) \n",
    "    plot_reward(reward_per_episode)\n",
    "\n",
    "    agent.decay_epsilon()"
   ]
  },
  {
   "cell_type": "code",
   "execution_count": 9,
   "id": "6a8a6a40-e1f5-4ff7-a693-e185d95c5217",
   "metadata": {},
   "outputs": [
    {
     "data": {
      "image/png": "[encoded data removed]",
      "text/plain": [
       "<Figure size 640x480 with 1 Axes>"
      ]
     },
     "metadata": {},
     "output_type": "display_data"
    },
    {
     "data": {
      "text/plain": [
       "<Figure size 640x480 with 0 Axes>"
      ]
     },
     "metadata": {},
     "output_type": "display_data"
    },
    {
     "data": {
      "text/plain": [
       "<Figure size 640x480 with 0 Axes>"
      ]
     },
     "metadata": {},
     "output_type": "display_data"
    }
   ],
   "source": [
    "plot_reward(agent.training_error, show_result=True)"
   ]
  },
  {
   "cell_type": "code",
   "execution_count": null,
   "id": "d7b3c723-cc06-442d-8717-8510c121f723",
   "metadata": {},
   "outputs": [],
   "source": []
  }
 ],
 "metadata": {
  "kernelspec": {
   "display_name": "clinic",
   "language": "python",
   "name": "clinic"
  },
  "language_info": {
   "codemirror_mode": {
    "name": "ipython",
    "version": 3
   },
   "file_extension": ".py",
   "mimetype": "text/x-python",
   "name": "python",
   "nbconvert_exporter": "python",
   "pygments_lexer": "ipython3",
   "version": "3.12.7"
  }
 },
 "nbformat": 4,
 "nbformat_minor": 5
}
