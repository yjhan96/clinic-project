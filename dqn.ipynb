{
 "cells": [
  {
   "cell_type": "code",
   "execution_count": 1,
   "id": "a41f774e-129d-4624-8c07-20294fa47fb2",
   "metadata": {
    "execution": {
     "iopub.execute_input": "2025-02-28T02:53:00.110045Z",
     "iopub.status.busy": "2025-02-28T02:53:00.109538Z",
     "iopub.status.idle": "2025-02-28T02:53:00.974010Z",
     "shell.execute_reply": "2025-02-28T02:53:00.973792Z",
     "shell.execute_reply.started": "2025-02-28T02:53:00.109999Z"
    }
   },
   "outputs": [],
   "source": [
    "import numpy as np\n",
    "from tqdm import tqdm\n",
    "import gymnasium as gym\n",
    "from gymnasium.wrappers import FlattenObservation, RecordEpisodeStatistics\n",
    "import torch\n",
    "from torch.utils.tensorboard import SummaryWriter\n",
    "from matplotlib import pyplot as plt\n",
    "import matplotlib\n",
    "\n",
    "from clinic_environment import ClinicEnv\n",
    "from clinic_agent import ClinicDQNAgent, ReplayMemory, Transition"
   ]
  },
  {
   "cell_type": "code",
   "execution_count": 2,
   "id": "040f0967-f6e7-4cb4-854d-e8c968b4b1bf",
   "metadata": {
    "execution": {
     "iopub.execute_input": "2025-02-28T02:53:00.974377Z",
     "iopub.status.busy": "2025-02-28T02:53:00.974259Z",
     "iopub.status.idle": "2025-02-28T02:53:00.977271Z",
     "shell.execute_reply": "2025-02-28T02:53:00.977105Z",
     "shell.execute_reply.started": "2025-02-28T02:53:00.974370Z"
    }
   },
   "outputs": [
    {
     "data": {
      "text/plain": [
       "<contextlib.ExitStack at 0x796d3157fe90>"
      ]
     },
     "execution_count": 2,
     "metadata": {},
     "output_type": "execute_result"
    }
   ],
   "source": [
    "is_ipython = 'inline' in matplotlib.get_backend()\n",
    "if is_ipython:\n",
    "    from IPython import display\n",
    "\n",
    "plt.ion()"
   ]
  },
  {
   "cell_type": "code",
   "execution_count": 3,
   "id": "9011c6e9-24f0-4277-a56e-75e0015cd9fd",
   "metadata": {
    "execution": {
     "iopub.execute_input": "2025-02-28T02:53:00.977771Z",
     "iopub.status.busy": "2025-02-28T02:53:00.977700Z",
     "iopub.status.idle": "2025-02-28T02:53:00.984260Z",
     "shell.execute_reply": "2025-02-28T02:53:00.984081Z",
     "shell.execute_reply.started": "2025-02-28T02:53:00.977765Z"
    }
   },
   "outputs": [],
   "source": [
    "learning_rate = 1e-4\n",
    "n_episodes = 20_000\n",
    "start_epsilon = 1.0\n",
    "epsilon_decay = start_epsilon / (n_episodes / 2)  # reduce the exploration over tim\n",
    "final_epsilon = 0.1"
   ]
  },
  {
   "cell_type": "code",
   "execution_count": 4,
   "id": "4485b7c1-08a4-41f4-aed8-e5631563324b",
   "metadata": {
    "execution": {
     "iopub.execute_input": "2025-02-28T02:53:00.984543Z",
     "iopub.status.busy": "2025-02-28T02:53:00.984470Z",
     "iopub.status.idle": "2025-02-28T02:53:00.989983Z",
     "shell.execute_reply": "2025-02-28T02:53:00.989819Z",
     "shell.execute_reply.started": "2025-02-28T02:53:00.984536Z"
    }
   },
   "outputs": [],
   "source": [
    "writer = SummaryWriter()"
   ]
  },
  {
   "cell_type": "code",
   "execution_count": 5,
   "id": "55b1fb19-d00f-4d71-ba09-c50c3eb34041",
   "metadata": {
    "execution": {
     "iopub.execute_input": "2025-02-28T02:53:00.990260Z",
     "iopub.status.busy": "2025-02-28T02:53:00.990192Z",
     "iopub.status.idle": "2025-02-28T02:53:00.998577Z",
     "shell.execute_reply": "2025-02-28T02:53:00.998343Z",
     "shell.execute_reply.started": "2025-02-28T02:53:00.990253Z"
    }
   },
   "outputs": [],
   "source": [
    "clinic_capacity = np.array([1, 2])\n",
    "clinic_travel_times = np.array([[0, 10], [10, 0]])\n",
    "patient_times = np.array([30, 40, 50])\n",
    "num_nurses = 3\n",
    "\n",
    "clinic_env = ClinicEnv(clinic_capacity, clinic_travel_times, patient_times, num_nurses)\n",
    "# clinic_env = RecordEpisodeStatistics(FlattenObservation(unwrapped_clinic_env))\n",
    "# clinic_env.get_valid_actions = unwrapped_clinic_env.get_valid_actions"
   ]
  },
  {
   "cell_type": "code",
   "execution_count": 6,
   "id": "80e7b83e-dd27-4400-a7d4-1dc94b92e1d2",
   "metadata": {
    "execution": {
     "iopub.execute_input": "2025-02-28T02:53:00.998907Z",
     "iopub.status.busy": "2025-02-28T02:53:00.998816Z",
     "iopub.status.idle": "2025-02-28T02:53:01.517370Z",
     "shell.execute_reply": "2025-02-28T02:53:01.516922Z",
     "shell.execute_reply.started": "2025-02-28T02:53:00.998899Z"
    }
   },
   "outputs": [],
   "source": [
    "agent = ClinicDQNAgent(\n",
    "    clinic_env, \n",
    "    learning_rate=learning_rate, \n",
    "    initial_epsilon=start_epsilon,\n",
    "    epsilon_decay=epsilon_decay,\n",
    "    final_epsilon=final_epsilon,\n",
    "    n_iter=n_episodes,\n",
    "    device=\"cuda\",\n",
    "    writer=writer,\n",
    ")"
   ]
  },
  {
   "cell_type": "code",
   "execution_count": 7,
   "id": "b4920115-bf58-4063-a963-9d5151d5af25",
   "metadata": {
    "execution": {
     "iopub.execute_input": "2025-02-28T02:53:01.517803Z",
     "iopub.status.busy": "2025-02-28T02:53:01.517670Z",
     "iopub.status.idle": "2025-02-28T02:53:01.519680Z",
     "shell.execute_reply": "2025-02-28T02:53:01.519516Z",
     "shell.execute_reply.started": "2025-02-28T02:53:01.517795Z"
    }
   },
   "outputs": [],
   "source": [
    "def play_episode(env, agent, randomize: bool = True):\n",
    "    obs, info = env.reset()\n",
    "    done = False\n",
    "\n",
    "    total_reward = 0\n",
    "    while not done:\n",
    "        action = agent.get_action(obs, randomize=randomize)\n",
    "        next_obs, reward, terminated, truncated, info = env.step(action.item())\n",
    "\n",
    "        agent.update(obs, action, reward, terminated, next_obs)\n",
    "\n",
    "        done = terminated or truncated\n",
    "        obs = next_obs\n",
    "        total_reward += reward\n",
    "\n",
    "    return total_reward"
   ]
  },
  {
   "cell_type": "code",
   "execution_count": 8,
   "id": "4157805e-db6a-4cae-bda5-c4a0e6e376af",
   "metadata": {
    "execution": {
     "iopub.execute_input": "2025-02-28T02:53:01.519969Z",
     "iopub.status.busy": "2025-02-28T02:53:01.519892Z",
     "iopub.status.idle": "2025-02-28T04:08:15.806508Z",
     "shell.execute_reply": "2025-02-28T04:08:15.806268Z",
     "shell.execute_reply.started": "2025-02-28T02:53:01.519955Z"
    }
   },
   "outputs": [
    {
     "name": "stderr",
     "output_type": "stream",
     "text": [
      "100%|██████████████████████████████████████████████████████████████████████████████████████████████████████████████████████████████████████████████| 20000/20000 [1:15:14<00:00,  4.43it/s]\n"
     ]
    }
   ],
   "source": [
    "for i in tqdm(range(n_episodes)):\n",
    "    total_reward = play_episode(clinic_env, agent)\n",
    "    writer.add_scalar(\"total reward\", total_reward, i)\n",
    "\n",
    "    agent.decay_epsilon()\n",
    "    # agent.update_lr()\n",
    "\n",
    "    # writer.add_scalar(\"Learning rate\", agent.scheduler.get_last_lr()[0], i)"
   ]
  },
  {
   "cell_type": "code",
   "execution_count": 10,
   "id": "51e436ab-1e9b-4294-a634-a59d5b09ecbf",
   "metadata": {
    "execution": {
     "iopub.execute_input": "2025-02-28T10:49:13.167316Z",
     "iopub.status.busy": "2025-02-28T10:49:13.166898Z",
     "iopub.status.idle": "2025-02-28T10:49:18.666529Z",
     "shell.execute_reply": "2025-02-28T10:49:18.665954Z",
     "shell.execute_reply.started": "2025-02-28T10:49:13.167286Z"
    }
   },
   "outputs": [
    {
     "ename": "KeyboardInterrupt",
     "evalue": "",
     "output_type": "error",
     "traceback": [
      "\u001b[0;31m---------------------------------------------------------------------------\u001b[0m",
      "\u001b[0;31mKeyboardInterrupt\u001b[0m                         Traceback (most recent call last)",
      "Cell \u001b[0;32mIn[10], line 1\u001b[0m\n\u001b[0;32m----> 1\u001b[0m \u001b[43mplay_episode\u001b[49m\u001b[43m(\u001b[49m\u001b[43mclinic_env\u001b[49m\u001b[43m,\u001b[49m\u001b[43m \u001b[49m\u001b[43magent\u001b[49m\u001b[43m,\u001b[49m\u001b[43m \u001b[49m\u001b[43mrandomize\u001b[49m\u001b[38;5;241;43m=\u001b[39;49m\u001b[38;5;28;43;01mFalse\u001b[39;49;00m\u001b[43m)\u001b[49m\n",
      "Cell \u001b[0;32mIn[7], line 10\u001b[0m, in \u001b[0;36mplay_episode\u001b[0;34m(env, agent, randomize)\u001b[0m\n\u001b[1;32m      7\u001b[0m action \u001b[38;5;241m=\u001b[39m agent\u001b[38;5;241m.\u001b[39mget_action(obs, randomize\u001b[38;5;241m=\u001b[39mrandomize)\n\u001b[1;32m      8\u001b[0m next_obs, reward, terminated, truncated, info \u001b[38;5;241m=\u001b[39m env\u001b[38;5;241m.\u001b[39mstep(action\u001b[38;5;241m.\u001b[39mitem())\n\u001b[0;32m---> 10\u001b[0m \u001b[43magent\u001b[49m\u001b[38;5;241;43m.\u001b[39;49m\u001b[43mupdate\u001b[49m\u001b[43m(\u001b[49m\u001b[43mobs\u001b[49m\u001b[43m,\u001b[49m\u001b[43m \u001b[49m\u001b[43maction\u001b[49m\u001b[43m,\u001b[49m\u001b[43m \u001b[49m\u001b[43mreward\u001b[49m\u001b[43m,\u001b[49m\u001b[43m \u001b[49m\u001b[43mterminated\u001b[49m\u001b[43m,\u001b[49m\u001b[43m \u001b[49m\u001b[43mnext_obs\u001b[49m\u001b[43m)\u001b[49m\n\u001b[1;32m     12\u001b[0m done \u001b[38;5;241m=\u001b[39m terminated \u001b[38;5;129;01mor\u001b[39;00m truncated\n\u001b[1;32m     13\u001b[0m obs \u001b[38;5;241m=\u001b[39m next_obs\n",
      "File \u001b[0;32m~/clinic-project/clinic_agent.py:274\u001b[0m, in \u001b[0;36mClinicDQNAgent.update\u001b[0;34m(self, state, action, reward, terminated, next_state)\u001b[0m\n\u001b[1;32m    266\u001b[0m     valid_actions_tensor \u001b[38;5;241m=\u001b[39m torch\u001b[38;5;241m.\u001b[39mtensor(\n\u001b[1;32m    267\u001b[0m         valid_actions_arr, dtype\u001b[38;5;241m=\u001b[39mtorch\u001b[38;5;241m.\u001b[39mbool, device\u001b[38;5;241m=\u001b[39m\u001b[38;5;28mself\u001b[39m\u001b[38;5;241m.\u001b[39mdevice\n\u001b[1;32m    268\u001b[0m     )\u001b[38;5;241m.\u001b[39munsqueeze(\u001b[38;5;241m0\u001b[39m)\n\u001b[1;32m    270\u001b[0m \u001b[38;5;28mself\u001b[39m\u001b[38;5;241m.\u001b[39mmemory\u001b[38;5;241m.\u001b[39mpush(\n\u001b[1;32m    271\u001b[0m     state_tensor, action, next_state_tensor, valid_actions_tensor, reward\n\u001b[1;32m    272\u001b[0m )\n\u001b[0;32m--> 274\u001b[0m \u001b[38;5;28;43mself\u001b[39;49m\u001b[38;5;241;43m.\u001b[39;49m\u001b[43moptimize_model\u001b[49m\u001b[43m(\u001b[49m\u001b[43m)\u001b[49m\n\u001b[1;32m    276\u001b[0m target_net_state_dict \u001b[38;5;241m=\u001b[39m \u001b[38;5;28mself\u001b[39m\u001b[38;5;241m.\u001b[39mtarget_net\u001b[38;5;241m.\u001b[39mstate_dict()\n\u001b[1;32m    277\u001b[0m policy_net_state_dict \u001b[38;5;241m=\u001b[39m \u001b[38;5;28mself\u001b[39m\u001b[38;5;241m.\u001b[39mpolicy_net\u001b[38;5;241m.\u001b[39mstate_dict()\n",
      "File \u001b[0;32m~/clinic-project/clinic_agent.py:227\u001b[0m, in \u001b[0;36mClinicDQNAgent.optimize_model\u001b[0;34m(self)\u001b[0m\n\u001b[1;32m    222\u001b[0m expected_state_action_values \u001b[38;5;241m=\u001b[39m (\n\u001b[1;32m    223\u001b[0m     next_state_values \u001b[38;5;241m*\u001b[39m \u001b[38;5;28mself\u001b[39m\u001b[38;5;241m.\u001b[39mdiscount_factor\n\u001b[1;32m    224\u001b[0m ) \u001b[38;5;241m+\u001b[39m reward_batch\n\u001b[1;32m    226\u001b[0m criterion \u001b[38;5;241m=\u001b[39m nn\u001b[38;5;241m.\u001b[39mSmoothL1Loss()\n\u001b[0;32m--> 227\u001b[0m loss \u001b[38;5;241m=\u001b[39m \u001b[43mcriterion\u001b[49m\u001b[43m(\u001b[49m\u001b[43mstate_action_values\u001b[49m\u001b[43m,\u001b[49m\u001b[43m \u001b[49m\u001b[43mexpected_state_action_values\u001b[49m\u001b[38;5;241;43m.\u001b[39;49m\u001b[43munsqueeze\u001b[49m\u001b[43m(\u001b[49m\u001b[38;5;241;43m1\u001b[39;49m\u001b[43m)\u001b[49m\u001b[43m)\u001b[49m\n\u001b[1;32m    228\u001b[0m \u001b[38;5;28;01mif\u001b[39;00m \u001b[38;5;28mself\u001b[39m\u001b[38;5;241m.\u001b[39mwriter \u001b[38;5;129;01mis\u001b[39;00m \u001b[38;5;129;01mnot\u001b[39;00m \u001b[38;5;28;01mNone\u001b[39;00m:\n\u001b[1;32m    229\u001b[0m     \u001b[38;5;28mself\u001b[39m\u001b[38;5;241m.\u001b[39mwriter\u001b[38;5;241m.\u001b[39madd_scalar(\u001b[38;5;124m\"\u001b[39m\u001b[38;5;124mTraining Error\u001b[39m\u001b[38;5;124m\"\u001b[39m, loss\u001b[38;5;241m.\u001b[39mitem(), \u001b[38;5;28mself\u001b[39m\u001b[38;5;241m.\u001b[39mbatch_idx)\n",
      "File \u001b[0;32m~/clinic-project/env/lib/python3.12/site-packages/torch/nn/modules/module.py:1739\u001b[0m, in \u001b[0;36mModule._wrapped_call_impl\u001b[0;34m(self, *args, **kwargs)\u001b[0m\n\u001b[1;32m   1737\u001b[0m     \u001b[38;5;28;01mreturn\u001b[39;00m \u001b[38;5;28mself\u001b[39m\u001b[38;5;241m.\u001b[39m_compiled_call_impl(\u001b[38;5;241m*\u001b[39margs, \u001b[38;5;241m*\u001b[39m\u001b[38;5;241m*\u001b[39mkwargs)  \u001b[38;5;66;03m# type: ignore[misc]\u001b[39;00m\n\u001b[1;32m   1738\u001b[0m \u001b[38;5;28;01melse\u001b[39;00m:\n\u001b[0;32m-> 1739\u001b[0m     \u001b[38;5;28;01mreturn\u001b[39;00m \u001b[38;5;28;43mself\u001b[39;49m\u001b[38;5;241;43m.\u001b[39;49m\u001b[43m_call_impl\u001b[49m\u001b[43m(\u001b[49m\u001b[38;5;241;43m*\u001b[39;49m\u001b[43margs\u001b[49m\u001b[43m,\u001b[49m\u001b[43m \u001b[49m\u001b[38;5;241;43m*\u001b[39;49m\u001b[38;5;241;43m*\u001b[39;49m\u001b[43mkwargs\u001b[49m\u001b[43m)\u001b[49m\n",
      "File \u001b[0;32m~/clinic-project/env/lib/python3.12/site-packages/torch/nn/modules/module.py:1750\u001b[0m, in \u001b[0;36mModule._call_impl\u001b[0;34m(self, *args, **kwargs)\u001b[0m\n\u001b[1;32m   1745\u001b[0m \u001b[38;5;66;03m# If we don't have any hooks, we want to skip the rest of the logic in\u001b[39;00m\n\u001b[1;32m   1746\u001b[0m \u001b[38;5;66;03m# this function, and just call forward.\u001b[39;00m\n\u001b[1;32m   1747\u001b[0m \u001b[38;5;28;01mif\u001b[39;00m \u001b[38;5;129;01mnot\u001b[39;00m (\u001b[38;5;28mself\u001b[39m\u001b[38;5;241m.\u001b[39m_backward_hooks \u001b[38;5;129;01mor\u001b[39;00m \u001b[38;5;28mself\u001b[39m\u001b[38;5;241m.\u001b[39m_backward_pre_hooks \u001b[38;5;129;01mor\u001b[39;00m \u001b[38;5;28mself\u001b[39m\u001b[38;5;241m.\u001b[39m_forward_hooks \u001b[38;5;129;01mor\u001b[39;00m \u001b[38;5;28mself\u001b[39m\u001b[38;5;241m.\u001b[39m_forward_pre_hooks\n\u001b[1;32m   1748\u001b[0m         \u001b[38;5;129;01mor\u001b[39;00m _global_backward_pre_hooks \u001b[38;5;129;01mor\u001b[39;00m _global_backward_hooks\n\u001b[1;32m   1749\u001b[0m         \u001b[38;5;129;01mor\u001b[39;00m _global_forward_hooks \u001b[38;5;129;01mor\u001b[39;00m _global_forward_pre_hooks):\n\u001b[0;32m-> 1750\u001b[0m     \u001b[38;5;28;01mreturn\u001b[39;00m \u001b[43mforward_call\u001b[49m\u001b[43m(\u001b[49m\u001b[38;5;241;43m*\u001b[39;49m\u001b[43margs\u001b[49m\u001b[43m,\u001b[49m\u001b[43m \u001b[49m\u001b[38;5;241;43m*\u001b[39;49m\u001b[38;5;241;43m*\u001b[39;49m\u001b[43mkwargs\u001b[49m\u001b[43m)\u001b[49m\n\u001b[1;32m   1752\u001b[0m result \u001b[38;5;241m=\u001b[39m \u001b[38;5;28;01mNone\u001b[39;00m\n\u001b[1;32m   1753\u001b[0m called_always_called_hooks \u001b[38;5;241m=\u001b[39m \u001b[38;5;28mset\u001b[39m()\n",
      "File \u001b[0;32m~/clinic-project/env/lib/python3.12/site-packages/torch/nn/modules/loss.py:1042\u001b[0m, in \u001b[0;36mSmoothL1Loss.forward\u001b[0;34m(self, input, target)\u001b[0m\n\u001b[1;32m   1041\u001b[0m \u001b[38;5;28;01mdef\u001b[39;00m\u001b[38;5;250m \u001b[39m\u001b[38;5;21mforward\u001b[39m(\u001b[38;5;28mself\u001b[39m, \u001b[38;5;28minput\u001b[39m: Tensor, target: Tensor) \u001b[38;5;241m-\u001b[39m\u001b[38;5;241m>\u001b[39m Tensor:\n\u001b[0;32m-> 1042\u001b[0m     \u001b[38;5;28;01mreturn\u001b[39;00m \u001b[43mF\u001b[49m\u001b[38;5;241;43m.\u001b[39;49m\u001b[43msmooth_l1_loss\u001b[49m\u001b[43m(\u001b[49m\u001b[38;5;28;43minput\u001b[39;49m\u001b[43m,\u001b[49m\u001b[43m \u001b[49m\u001b[43mtarget\u001b[49m\u001b[43m,\u001b[49m\u001b[43m \u001b[49m\u001b[43mreduction\u001b[49m\u001b[38;5;241;43m=\u001b[39;49m\u001b[38;5;28;43mself\u001b[39;49m\u001b[38;5;241;43m.\u001b[39;49m\u001b[43mreduction\u001b[49m\u001b[43m,\u001b[49m\u001b[43m \u001b[49m\u001b[43mbeta\u001b[49m\u001b[38;5;241;43m=\u001b[39;49m\u001b[38;5;28;43mself\u001b[39;49m\u001b[38;5;241;43m.\u001b[39;49m\u001b[43mbeta\u001b[49m\u001b[43m)\u001b[49m\n",
      "File \u001b[0;32m~/clinic-project/env/lib/python3.12/site-packages/torch/nn/functional.py:3691\u001b[0m, in \u001b[0;36msmooth_l1_loss\u001b[0;34m(input, target, size_average, reduce, reduction, beta)\u001b[0m\n\u001b[1;32m   3687\u001b[0m     \u001b[38;5;28;01mreturn\u001b[39;00m torch\u001b[38;5;241m.\u001b[39m_C\u001b[38;5;241m.\u001b[39m_nn\u001b[38;5;241m.\u001b[39ml1_loss(\n\u001b[1;32m   3688\u001b[0m         expanded_input, expanded_target, _Reduction\u001b[38;5;241m.\u001b[39mget_enum(reduction)\n\u001b[1;32m   3689\u001b[0m     )\n\u001b[1;32m   3690\u001b[0m \u001b[38;5;28;01melse\u001b[39;00m:\n\u001b[0;32m-> 3691\u001b[0m     \u001b[38;5;28;01mreturn\u001b[39;00m \u001b[43mtorch\u001b[49m\u001b[38;5;241;43m.\u001b[39;49m\u001b[43m_C\u001b[49m\u001b[38;5;241;43m.\u001b[39;49m\u001b[43m_nn\u001b[49m\u001b[38;5;241;43m.\u001b[39;49m\u001b[43msmooth_l1_loss\u001b[49m\u001b[43m(\u001b[49m\n\u001b[1;32m   3692\u001b[0m \u001b[43m        \u001b[49m\u001b[43mexpanded_input\u001b[49m\u001b[43m,\u001b[49m\u001b[43m \u001b[49m\u001b[43mexpanded_target\u001b[49m\u001b[43m,\u001b[49m\u001b[43m \u001b[49m\u001b[43m_Reduction\u001b[49m\u001b[38;5;241;43m.\u001b[39;49m\u001b[43mget_enum\u001b[49m\u001b[43m(\u001b[49m\u001b[43mreduction\u001b[49m\u001b[43m)\u001b[49m\u001b[43m,\u001b[49m\u001b[43m \u001b[49m\u001b[43mbeta\u001b[49m\n\u001b[1;32m   3693\u001b[0m \u001b[43m    \u001b[49m\u001b[43m)\u001b[49m\n",
      "\u001b[0;31mKeyboardInterrupt\u001b[0m: "
     ]
    }
   ],
   "source": [
    "play_episode(clinic_env, agent, randomize=False)"
   ]
  },
  {
   "cell_type": "code",
   "execution_count": null,
   "id": "fa1b69a1-860d-4685-9e74-a7d665f1cdba",
   "metadata": {},
   "outputs": [],
   "source": []
  }
 ],
 "metadata": {
  "kernelspec": {
   "display_name": "clinic",
   "language": "python",
   "name": "clinic"
  },
  "language_info": {
   "codemirror_mode": {
    "name": "ipython",
    "version": 3
   },
   "file_extension": ".py",
   "mimetype": "text/x-python",
   "name": "python",
   "nbconvert_exporter": "python",
   "pygments_lexer": "ipython3",
   "version": "3.12.3"
  }
 },
 "nbformat": 4,
 "nbformat_minor": 5
}
