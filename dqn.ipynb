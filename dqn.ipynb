{
 "cells": [
  {
   "cell_type": "code",
   "execution_count": 1,
   "id": "a41f774e-129d-4624-8c07-20294fa47fb2",
   "metadata": {
    "execution": {
     "iopub.execute_input": "2025-02-22T15:57:39.898267Z",
     "iopub.status.busy": "2025-02-22T15:57:39.898192Z",
     "iopub.status.idle": "2025-02-22T15:57:40.743611Z",
     "shell.execute_reply": "2025-02-22T15:57:40.743302Z",
     "shell.execute_reply.started": "2025-02-22T15:57:39.898259Z"
    }
   },
   "outputs": [],
   "source": [
    "import numpy as np\n",
    "from tqdm import tqdm\n",
    "import gymnasium as gym\n",
    "from gymnasium.wrappers import FlattenObservation, RecordEpisodeStatistics\n",
    "import torch\n",
    "from torch.utils.tensorboard import SummaryWriter\n",
    "from matplotlib import pyplot as plt\n",
    "import matplotlib\n",
    "\n",
    "from clinic_environment import ClinicEnv\n",
    "from clinic_agent import ClinicDQNAgent, ReplayMemory, Transition"
   ]
  },
  {
   "cell_type": "code",
   "execution_count": 2,
   "id": "040f0967-f6e7-4cb4-854d-e8c968b4b1bf",
   "metadata": {
    "execution": {
     "iopub.execute_input": "2025-02-22T15:57:40.743989Z",
     "iopub.status.busy": "2025-02-22T15:57:40.743875Z",
     "iopub.status.idle": "2025-02-22T15:57:40.746778Z",
     "shell.execute_reply": "2025-02-22T15:57:40.746597Z",
     "shell.execute_reply.started": "2025-02-22T15:57:40.743981Z"
    }
   },
   "outputs": [
    {
     "data": {
      "text/plain": [
       "<contextlib.ExitStack at 0x7465da590440>"
      ]
     },
     "execution_count": 2,
     "metadata": {},
     "output_type": "execute_result"
    }
   ],
   "source": [
    "is_ipython = 'inline' in matplotlib.get_backend()\n",
    "if is_ipython:\n",
    "    from IPython import display\n",
    "\n",
    "plt.ion()"
   ]
  },
  {
   "cell_type": "code",
   "execution_count": 27,
   "id": "9011c6e9-24f0-4277-a56e-75e0015cd9fd",
   "metadata": {
    "execution": {
     "iopub.execute_input": "2025-02-22T16:13:01.838353Z",
     "iopub.status.busy": "2025-02-22T16:13:01.837893Z",
     "iopub.status.idle": "2025-02-22T16:13:01.841128Z",
     "shell.execute_reply": "2025-02-22T16:13:01.840935Z",
     "shell.execute_reply.started": "2025-02-22T16:13:01.838318Z"
    }
   },
   "outputs": [],
   "source": [
    "learning_rate = 1e-6\n",
    "n_episodes = 100_000\n",
    "start_epsilon = 0.95\n",
    "epsilon_decay = start_epsilon / (n_episodes / 2)  # reduce the exploration over time\n",
    "final_epsilon = 0.1"
   ]
  },
  {
   "cell_type": "code",
   "execution_count": 28,
   "id": "4485b7c1-08a4-41f4-aed8-e5631563324b",
   "metadata": {
    "execution": {
     "iopub.execute_input": "2025-02-22T16:13:02.066676Z",
     "iopub.status.busy": "2025-02-22T16:13:02.066286Z",
     "iopub.status.idle": "2025-02-22T16:13:02.071152Z",
     "shell.execute_reply": "2025-02-22T16:13:02.070756Z",
     "shell.execute_reply.started": "2025-02-22T16:13:02.066648Z"
    }
   },
   "outputs": [],
   "source": [
    "writer = SummaryWriter()"
   ]
  },
  {
   "cell_type": "code",
   "execution_count": 29,
   "id": "55b1fb19-d00f-4d71-ba09-c50c3eb34041",
   "metadata": {
    "execution": {
     "iopub.execute_input": "2025-02-22T16:13:02.306017Z",
     "iopub.status.busy": "2025-02-22T16:13:02.305475Z",
     "iopub.status.idle": "2025-02-22T16:13:02.322304Z",
     "shell.execute_reply": "2025-02-22T16:13:02.321732Z",
     "shell.execute_reply.started": "2025-02-22T16:13:02.305986Z"
    }
   },
   "outputs": [],
   "source": [
    "clinic_capacity = np.array([1, 2])\n",
    "clinic_travel_times = np.array([[0, 10], [10, 0]])\n",
    "patient_times = np.array([30, 40])\n",
    "num_nurses = 2\n",
    "\n",
    "unwrapped_clinic_env = ClinicEnv(clinic_capacity, clinic_travel_times, patient_times, num_nurses)\n",
    "clinic_env = RecordEpisodeStatistics(FlattenObservation(unwrapped_clinic_env))\n",
    "clinic_env.get_valid_actions = unwrapped_clinic_env.get_valid_actions"
   ]
  },
  {
   "cell_type": "code",
   "execution_count": 30,
   "id": "80e7b83e-dd27-4400-a7d4-1dc94b92e1d2",
   "metadata": {
    "execution": {
     "iopub.execute_input": "2025-02-22T16:13:02.498291Z",
     "iopub.status.busy": "2025-02-22T16:13:02.497767Z",
     "iopub.status.idle": "2025-02-22T16:13:02.506612Z",
     "shell.execute_reply": "2025-02-22T16:13:02.505901Z",
     "shell.execute_reply.started": "2025-02-22T16:13:02.498262Z"
    }
   },
   "outputs": [],
   "source": [
    "agent = ClinicDQNAgent(\n",
    "    clinic_env, \n",
    "    learning_rate=learning_rate, \n",
    "    initial_epsilon=start_epsilon,\n",
    "    epsilon_decay=epsilon_decay,\n",
    "    final_epsilon=final_epsilon,\n",
    "    device=\"cuda\",\n",
    "    writer=writer,\n",
    ")"
   ]
  },
  {
   "cell_type": "code",
   "execution_count": 31,
   "id": "b4920115-bf58-4063-a963-9d5151d5af25",
   "metadata": {
    "execution": {
     "iopub.execute_input": "2025-02-22T16:13:02.721482Z",
     "iopub.status.busy": "2025-02-22T16:13:02.721097Z",
     "iopub.status.idle": "2025-02-22T16:13:02.727683Z",
     "shell.execute_reply": "2025-02-22T16:13:02.726993Z",
     "shell.execute_reply.started": "2025-02-22T16:13:02.721453Z"
    }
   },
   "outputs": [],
   "source": [
    "def play_episode(env, agent, randomize: bool = True):\n",
    "    obs, info = env.reset()\n",
    "    done = False\n",
    "\n",
    "    total_reward = 0\n",
    "    while not done:\n",
    "        action = agent.get_action(obs, randomize=randomize)\n",
    "        next_obs, reward, terminated, truncated, info = env.step(action.item())\n",
    "\n",
    "        agent.update(obs, action, reward, terminated, next_obs)\n",
    "\n",
    "        done = terminated or truncated\n",
    "        obs = next_obs\n",
    "        total_reward += reward\n",
    "\n",
    "    return total_reward"
   ]
  },
  {
   "cell_type": "code",
   "execution_count": 32,
   "id": "4157805e-db6a-4cae-bda5-c4a0e6e376af",
   "metadata": {
    "execution": {
     "iopub.execute_input": "2025-02-22T16:13:03.070118Z",
     "iopub.status.busy": "2025-02-22T16:13:03.069719Z",
     "iopub.status.idle": "2025-02-22T16:17:32.576157Z",
     "shell.execute_reply": "2025-02-22T16:17:32.575795Z",
     "shell.execute_reply.started": "2025-02-22T16:13:03.070089Z"
    }
   },
   "outputs": [
    {
     "name": "stderr",
     "output_type": "stream",
     "text": [
      " 10%|█████▎                                                | 9863/100000 [04:27<40:46, 36.85it/s]\n"
     ]
    },
    {
     "ename": "KeyboardInterrupt",
     "evalue": "",
     "output_type": "error",
     "traceback": [
      "\u001b[0;31m---------------------------------------------------------------------------\u001b[0m",
      "\u001b[0;31mKeyboardInterrupt\u001b[0m                         Traceback (most recent call last)",
      "Cell \u001b[0;32mIn[32], line 6\u001b[0m\n\u001b[1;32m      3\u001b[0m     play_episode(clinic_env, agent)\n\u001b[1;32m      5\u001b[0m \u001b[38;5;28;01mfor\u001b[39;00m i \u001b[38;5;129;01min\u001b[39;00m tqdm(\u001b[38;5;28mrange\u001b[39m(n_episodes)):\n\u001b[0;32m----> 6\u001b[0m     total_reward \u001b[38;5;241m=\u001b[39m \u001b[43mplay_episode\u001b[49m\u001b[43m(\u001b[49m\u001b[43mclinic_env\u001b[49m\u001b[43m,\u001b[49m\u001b[43m \u001b[49m\u001b[43magent\u001b[49m\u001b[43m)\u001b[49m\n\u001b[1;32m      7\u001b[0m     writer\u001b[38;5;241m.\u001b[39madd_scalar(\u001b[38;5;124m\"\u001b[39m\u001b[38;5;124mtotal reward\u001b[39m\u001b[38;5;124m\"\u001b[39m, total_reward, i)\n\u001b[1;32m      9\u001b[0m     agent\u001b[38;5;241m.\u001b[39mdecay_epsilon()\n",
      "Cell \u001b[0;32mIn[31], line 10\u001b[0m, in \u001b[0;36mplay_episode\u001b[0;34m(env, agent, randomize)\u001b[0m\n\u001b[1;32m      7\u001b[0m action \u001b[38;5;241m=\u001b[39m agent\u001b[38;5;241m.\u001b[39mget_action(obs, randomize\u001b[38;5;241m=\u001b[39mrandomize)\n\u001b[1;32m      8\u001b[0m next_obs, reward, terminated, truncated, info \u001b[38;5;241m=\u001b[39m env\u001b[38;5;241m.\u001b[39mstep(action\u001b[38;5;241m.\u001b[39mitem())\n\u001b[0;32m---> 10\u001b[0m \u001b[43magent\u001b[49m\u001b[38;5;241;43m.\u001b[39;49m\u001b[43mupdate\u001b[49m\u001b[43m(\u001b[49m\u001b[43mobs\u001b[49m\u001b[43m,\u001b[49m\u001b[43m \u001b[49m\u001b[43maction\u001b[49m\u001b[43m,\u001b[49m\u001b[43m \u001b[49m\u001b[43mreward\u001b[49m\u001b[43m,\u001b[49m\u001b[43m \u001b[49m\u001b[43mterminated\u001b[49m\u001b[43m,\u001b[49m\u001b[43m \u001b[49m\u001b[43mnext_obs\u001b[49m\u001b[43m)\u001b[49m\n\u001b[1;32m     12\u001b[0m done \u001b[38;5;241m=\u001b[39m terminated \u001b[38;5;129;01mor\u001b[39;00m truncated\n\u001b[1;32m     13\u001b[0m obs \u001b[38;5;241m=\u001b[39m next_obs\n",
      "File \u001b[0;32m~/clinic-project/clinic_agent.py:231\u001b[0m, in \u001b[0;36mClinicDQNAgent.update\u001b[0;34m(self, state, action, reward, terminated, next_state)\u001b[0m\n\u001b[1;32m    225\u001b[0m     next_state \u001b[38;5;241m=\u001b[39m torch\u001b[38;5;241m.\u001b[39mtensor(\n\u001b[1;32m    226\u001b[0m         next_state, dtype\u001b[38;5;241m=\u001b[39mtorch\u001b[38;5;241m.\u001b[39mfloat32, device\u001b[38;5;241m=\u001b[39m\u001b[38;5;28mself\u001b[39m\u001b[38;5;241m.\u001b[39mdevice\n\u001b[1;32m    227\u001b[0m     )\u001b[38;5;241m.\u001b[39munsqueeze(\u001b[38;5;241m0\u001b[39m)\n\u001b[1;32m    229\u001b[0m \u001b[38;5;28mself\u001b[39m\u001b[38;5;241m.\u001b[39mmemory\u001b[38;5;241m.\u001b[39mpush(state, action, next_state, reward)\n\u001b[0;32m--> 231\u001b[0m \u001b[38;5;28;43mself\u001b[39;49m\u001b[38;5;241;43m.\u001b[39;49m\u001b[43moptimize_model\u001b[49m\u001b[43m(\u001b[49m\u001b[43m)\u001b[49m\n\u001b[1;32m    233\u001b[0m target_net_state_dict \u001b[38;5;241m=\u001b[39m \u001b[38;5;28mself\u001b[39m\u001b[38;5;241m.\u001b[39mtarget_net\u001b[38;5;241m.\u001b[39mstate_dict()\n\u001b[1;32m    234\u001b[0m policy_net_state_dict \u001b[38;5;241m=\u001b[39m \u001b[38;5;28mself\u001b[39m\u001b[38;5;241m.\u001b[39mpolicy_net\u001b[38;5;241m.\u001b[39mstate_dict()\n",
      "File \u001b[0;32m~/clinic-project/clinic_agent.py:211\u001b[0m, in \u001b[0;36mClinicDQNAgent.optimize_model\u001b[0;34m(self)\u001b[0m\n\u001b[1;32m    208\u001b[0m \u001b[38;5;28mself\u001b[39m\u001b[38;5;241m.\u001b[39mbatch_idx \u001b[38;5;241m+\u001b[39m\u001b[38;5;241m=\u001b[39m \u001b[38;5;241m1\u001b[39m\n\u001b[1;32m    210\u001b[0m \u001b[38;5;28mself\u001b[39m\u001b[38;5;241m.\u001b[39moptimizer\u001b[38;5;241m.\u001b[39mzero_grad()\n\u001b[0;32m--> 211\u001b[0m \u001b[43mloss\u001b[49m\u001b[38;5;241;43m.\u001b[39;49m\u001b[43mbackward\u001b[49m\u001b[43m(\u001b[49m\u001b[43m)\u001b[49m\n\u001b[1;32m    213\u001b[0m torch\u001b[38;5;241m.\u001b[39mnn\u001b[38;5;241m.\u001b[39mutils\u001b[38;5;241m.\u001b[39mclip_grad_value_(\u001b[38;5;28mself\u001b[39m\u001b[38;5;241m.\u001b[39mpolicy_net\u001b[38;5;241m.\u001b[39mparameters(), \u001b[38;5;241m100\u001b[39m)\n\u001b[1;32m    214\u001b[0m \u001b[38;5;28mself\u001b[39m\u001b[38;5;241m.\u001b[39moptimizer\u001b[38;5;241m.\u001b[39mstep()\n",
      "File \u001b[0;32m~/clinic-project/env/lib/python3.12/site-packages/torch/_tensor.py:626\u001b[0m, in \u001b[0;36mTensor.backward\u001b[0;34m(self, gradient, retain_graph, create_graph, inputs)\u001b[0m\n\u001b[1;32m    616\u001b[0m \u001b[38;5;28;01mif\u001b[39;00m has_torch_function_unary(\u001b[38;5;28mself\u001b[39m):\n\u001b[1;32m    617\u001b[0m     \u001b[38;5;28;01mreturn\u001b[39;00m handle_torch_function(\n\u001b[1;32m    618\u001b[0m         Tensor\u001b[38;5;241m.\u001b[39mbackward,\n\u001b[1;32m    619\u001b[0m         (\u001b[38;5;28mself\u001b[39m,),\n\u001b[0;32m   (...)\u001b[0m\n\u001b[1;32m    624\u001b[0m         inputs\u001b[38;5;241m=\u001b[39minputs,\n\u001b[1;32m    625\u001b[0m     )\n\u001b[0;32m--> 626\u001b[0m \u001b[43mtorch\u001b[49m\u001b[38;5;241;43m.\u001b[39;49m\u001b[43mautograd\u001b[49m\u001b[38;5;241;43m.\u001b[39;49m\u001b[43mbackward\u001b[49m\u001b[43m(\u001b[49m\n\u001b[1;32m    627\u001b[0m \u001b[43m    \u001b[49m\u001b[38;5;28;43mself\u001b[39;49m\u001b[43m,\u001b[49m\u001b[43m \u001b[49m\u001b[43mgradient\u001b[49m\u001b[43m,\u001b[49m\u001b[43m \u001b[49m\u001b[43mretain_graph\u001b[49m\u001b[43m,\u001b[49m\u001b[43m \u001b[49m\u001b[43mcreate_graph\u001b[49m\u001b[43m,\u001b[49m\u001b[43m \u001b[49m\u001b[43minputs\u001b[49m\u001b[38;5;241;43m=\u001b[39;49m\u001b[43minputs\u001b[49m\n\u001b[1;32m    628\u001b[0m \u001b[43m\u001b[49m\u001b[43m)\u001b[49m\n",
      "File \u001b[0;32m~/clinic-project/env/lib/python3.12/site-packages/torch/autograd/__init__.py:340\u001b[0m, in \u001b[0;36mbackward\u001b[0;34m(tensors, grad_tensors, retain_graph, create_graph, grad_variables, inputs)\u001b[0m\n\u001b[1;32m    331\u001b[0m inputs \u001b[38;5;241m=\u001b[39m (\n\u001b[1;32m    332\u001b[0m     (inputs,)\n\u001b[1;32m    333\u001b[0m     \u001b[38;5;28;01mif\u001b[39;00m \u001b[38;5;28misinstance\u001b[39m(inputs, (torch\u001b[38;5;241m.\u001b[39mTensor, graph\u001b[38;5;241m.\u001b[39mGradientEdge))\n\u001b[0;32m   (...)\u001b[0m\n\u001b[1;32m    336\u001b[0m     \u001b[38;5;28;01melse\u001b[39;00m ()\n\u001b[1;32m    337\u001b[0m )\n\u001b[1;32m    339\u001b[0m grad_tensors_ \u001b[38;5;241m=\u001b[39m _tensor_or_tensors_to_tuple(grad_tensors, \u001b[38;5;28mlen\u001b[39m(tensors))\n\u001b[0;32m--> 340\u001b[0m grad_tensors_ \u001b[38;5;241m=\u001b[39m \u001b[43m_make_grads\u001b[49m\u001b[43m(\u001b[49m\u001b[43mtensors\u001b[49m\u001b[43m,\u001b[49m\u001b[43m \u001b[49m\u001b[43mgrad_tensors_\u001b[49m\u001b[43m,\u001b[49m\u001b[43m \u001b[49m\u001b[43mis_grads_batched\u001b[49m\u001b[38;5;241;43m=\u001b[39;49m\u001b[38;5;28;43;01mFalse\u001b[39;49;00m\u001b[43m)\u001b[49m\n\u001b[1;32m    341\u001b[0m \u001b[38;5;28;01mif\u001b[39;00m retain_graph \u001b[38;5;129;01mis\u001b[39;00m \u001b[38;5;28;01mNone\u001b[39;00m:\n\u001b[1;32m    342\u001b[0m     retain_graph \u001b[38;5;241m=\u001b[39m create_graph\n",
      "File \u001b[0;32m~/clinic-project/env/lib/python3.12/site-packages/torch/autograd/__init__.py:220\u001b[0m, in \u001b[0;36m_make_grads\u001b[0;34m(outputs, grads, is_grads_batched)\u001b[0m\n\u001b[1;32m    217\u001b[0m     \u001b[38;5;28;01melse\u001b[39;00m:\n\u001b[1;32m    218\u001b[0m         \u001b[38;5;28;01massert\u001b[39;00m \u001b[38;5;28misinstance\u001b[39m(out, torch\u001b[38;5;241m.\u001b[39mTensor)\n\u001b[1;32m    219\u001b[0m         new_grads\u001b[38;5;241m.\u001b[39mappend(\n\u001b[0;32m--> 220\u001b[0m             \u001b[43mtorch\u001b[49m\u001b[38;5;241;43m.\u001b[39;49m\u001b[43mones_like\u001b[49m\u001b[43m(\u001b[49m\u001b[43mout\u001b[49m\u001b[43m,\u001b[49m\u001b[43m \u001b[49m\u001b[43mmemory_format\u001b[49m\u001b[38;5;241;43m=\u001b[39;49m\u001b[43mtorch\u001b[49m\u001b[38;5;241;43m.\u001b[39;49m\u001b[43mpreserve_format\u001b[49m\u001b[43m)\u001b[49m\n\u001b[1;32m    221\u001b[0m         )\n\u001b[1;32m    222\u001b[0m \u001b[38;5;28;01melse\u001b[39;00m:\n\u001b[1;32m    223\u001b[0m     new_grads\u001b[38;5;241m.\u001b[39mappend(\u001b[38;5;28;01mNone\u001b[39;00m)\n",
      "\u001b[0;31mKeyboardInterrupt\u001b[0m: "
     ]
    }
   ],
   "source": [
    "reward_per_episode = []\n",
    "while len(agent.memory) <= 5_000:\n",
    "    play_episode(clinic_env, agent)\n",
    "\n",
    "for i in tqdm(range(n_episodes)):\n",
    "    total_reward = play_episode(clinic_env, agent)\n",
    "    writer.add_scalar(\"total reward\", total_reward, i)\n",
    "\n",
    "    agent.decay_epsilon()"
   ]
  },
  {
   "cell_type": "code",
   "execution_count": null,
   "id": "51e436ab-1e9b-4294-a634-a59d5b09ecbf",
   "metadata": {
    "execution": {
     "iopub.status.busy": "2025-02-22T16:10:27.496239Z",
     "iopub.status.idle": "2025-02-22T16:10:27.496366Z",
     "shell.execute_reply": "2025-02-22T16:10:27.496314Z",
     "shell.execute_reply.started": "2025-02-22T16:10:27.496309Z"
    }
   },
   "outputs": [],
   "source": [
    "play_episode(clinic_env, agent, randomize=True)"
   ]
  },
  {
   "cell_type": "code",
   "execution_count": null,
   "id": "fa1b69a1-860d-4685-9e74-a7d665f1cdba",
   "metadata": {},
   "outputs": [],
   "source": []
  }
 ],
 "metadata": {
  "kernelspec": {
   "display_name": "clinic",
   "language": "python",
   "name": "clinic"
  },
  "language_info": {
   "codemirror_mode": {
    "name": "ipython",
    "version": 3
   },
   "file_extension": ".py",
   "mimetype": "text/x-python",
   "name": "python",
   "nbconvert_exporter": "python",
   "pygments_lexer": "ipython3",
   "version": "3.12.3"
  }
 },
 "nbformat": 4,
 "nbformat_minor": 5
}
