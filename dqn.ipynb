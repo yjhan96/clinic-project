{
 "cells": [
  {
   "cell_type": "code",
   "execution_count": 1,
   "id": "a41f774e-129d-4624-8c07-20294fa47fb2",
   "metadata": {
    "execution": {
     "iopub.execute_input": "2025-03-08T02:48:00.804217Z",
     "iopub.status.busy": "2025-03-08T02:48:00.803907Z",
     "iopub.status.idle": "2025-03-08T02:48:01.674162Z",
     "shell.execute_reply": "2025-03-08T02:48:01.673936Z",
     "shell.execute_reply.started": "2025-03-08T02:48:00.804199Z"
    }
   },
   "outputs": [],
   "source": [
    "import numpy as np\n",
    "from tqdm import tqdm\n",
    "import gymnasium as gym\n",
    "from gymnasium.wrappers import FlattenObservation, RecordEpisodeStatistics\n",
    "import torch\n",
    "from torch.utils.tensorboard import SummaryWriter\n",
    "from matplotlib import pyplot as plt\n",
    "import matplotlib\n",
    "\n",
    "from clinic_environment import ClinicEnv\n",
    "from clinic_agent import ClinicDQNAgent, ReplayMemory, Transition"
   ]
  },
  {
   "cell_type": "code",
   "execution_count": 2,
   "id": "040f0967-f6e7-4cb4-854d-e8c968b4b1bf",
   "metadata": {
    "execution": {
     "iopub.execute_input": "2025-03-08T02:48:01.674564Z",
     "iopub.status.busy": "2025-03-08T02:48:01.674447Z",
     "iopub.status.idle": "2025-03-08T02:48:01.677761Z",
     "shell.execute_reply": "2025-03-08T02:48:01.677493Z",
     "shell.execute_reply.started": "2025-03-08T02:48:01.674556Z"
    }
   },
   "outputs": [
    {
     "data": {
      "text/plain": [
       "<contextlib.ExitStack at 0x7c22d7af0170>"
      ]
     },
     "execution_count": 2,
     "metadata": {},
     "output_type": "execute_result"
    }
   ],
   "source": [
    "is_ipython = 'inline' in matplotlib.get_backend()\n",
    "if is_ipython:\n",
    "    from IPython import display\n",
    "\n",
    "plt.ion()"
   ]
  },
  {
   "cell_type": "code",
   "execution_count": 3,
   "id": "9011c6e9-24f0-4277-a56e-75e0015cd9fd",
   "metadata": {
    "execution": {
     "iopub.execute_input": "2025-03-08T02:48:01.678296Z",
     "iopub.status.busy": "2025-03-08T02:48:01.678217Z",
     "iopub.status.idle": "2025-03-08T02:48:01.684015Z",
     "shell.execute_reply": "2025-03-08T02:48:01.683839Z",
     "shell.execute_reply.started": "2025-03-08T02:48:01.678290Z"
    }
   },
   "outputs": [],
   "source": [
    "learning_rate = 1e-4\n",
    "n_episodes = 40_000\n",
    "start_epsilon = 1.0\n",
    "epsilon_decay = start_epsilon / (n_episodes / 2)  # reduce the exploration over tim\n",
    "final_epsilon = 0.1"
   ]
  },
  {
   "cell_type": "code",
   "execution_count": 4,
   "id": "4485b7c1-08a4-41f4-aed8-e5631563324b",
   "metadata": {
    "execution": {
     "iopub.execute_input": "2025-03-08T02:48:01.684286Z",
     "iopub.status.busy": "2025-03-08T02:48:01.684217Z",
     "iopub.status.idle": "2025-03-08T02:48:01.692179Z",
     "shell.execute_reply": "2025-03-08T02:48:01.691864Z",
     "shell.execute_reply.started": "2025-03-08T02:48:01.684280Z"
    }
   },
   "outputs": [],
   "source": [
    "writer = SummaryWriter()"
   ]
  },
  {
   "cell_type": "code",
   "execution_count": 5,
   "id": "55b1fb19-d00f-4d71-ba09-c50c3eb34041",
   "metadata": {
    "execution": {
     "iopub.execute_input": "2025-03-08T02:48:01.692653Z",
     "iopub.status.busy": "2025-03-08T02:48:01.692556Z",
     "iopub.status.idle": "2025-03-08T02:48:01.702817Z",
     "shell.execute_reply": "2025-03-08T02:48:01.702420Z",
     "shell.execute_reply.started": "2025-03-08T02:48:01.692645Z"
    }
   },
   "outputs": [],
   "source": [
    "clinic_capacity = np.array([1, 2])\n",
    "clinic_travel_times = np.array([[0, 10], [10, 0]])\n",
    "patient_times = np.array([30, 40, 50])\n",
    "num_nurses = 3\n",
    "\n",
    "clinic_env = ClinicEnv(clinic_capacity, clinic_travel_times, patient_times, num_nurses)\n",
    "# clinic_env = RecordEpisodeStatistics(FlattenObservation(unwrapped_clinic_env))\n",
    "# clinic_env.get_valid_actions = unwrapped_clinic_env.get_valid_actions"
   ]
  },
  {
   "cell_type": "code",
   "execution_count": 6,
   "id": "80e7b83e-dd27-4400-a7d4-1dc94b92e1d2",
   "metadata": {
    "execution": {
     "iopub.execute_input": "2025-03-08T02:48:01.703456Z",
     "iopub.status.busy": "2025-03-08T02:48:01.703296Z",
     "iopub.status.idle": "2025-03-08T02:48:02.247493Z",
     "shell.execute_reply": "2025-03-08T02:48:02.247173Z",
     "shell.execute_reply.started": "2025-03-08T02:48:01.703442Z"
    }
   },
   "outputs": [],
   "source": [
    "agent = ClinicDQNAgent(\n",
    "    clinic_env, \n",
    "    learning_rate=learning_rate, \n",
    "    initial_epsilon=start_epsilon,\n",
    "    epsilon_decay=epsilon_decay,\n",
    "    final_epsilon=final_epsilon,\n",
    "    n_iter=n_episodes,\n",
    "    batch_size=256,\n",
    "    device=\"cuda\",\n",
    "    writer=writer,\n",
    ")"
   ]
  },
  {
   "cell_type": "code",
   "execution_count": 7,
   "id": "b4920115-bf58-4063-a963-9d5151d5af25",
   "metadata": {
    "execution": {
     "iopub.execute_input": "2025-03-08T02:48:02.247929Z",
     "iopub.status.busy": "2025-03-08T02:48:02.247797Z",
     "iopub.status.idle": "2025-03-08T02:48:02.250069Z",
     "shell.execute_reply": "2025-03-08T02:48:02.249871Z",
     "shell.execute_reply.started": "2025-03-08T02:48:02.247921Z"
    }
   },
   "outputs": [],
   "source": [
    "def play_episode(env, agent, randomize: bool = True, update_model: bool = True):\n",
    "    obs, info = env.reset()\n",
    "    done = False\n",
    "\n",
    "    total_reward = 0\n",
    "    while not done:\n",
    "        action = agent.get_action(obs, randomize=randomize)\n",
    "        next_obs, reward, terminated, truncated, info = env.step(action.item())\n",
    "\n",
    "        if update_model:\n",
    "            agent.update(obs, action, reward, terminated, next_obs)\n",
    "        else:\n",
    "            print(action.item())\n",
    "\n",
    "        done = terminated or truncated\n",
    "        obs = next_obs\n",
    "        total_reward += reward\n",
    "\n",
    "    return total_reward"
   ]
  },
  {
   "cell_type": "code",
   "execution_count": null,
   "id": "4157805e-db6a-4cae-bda5-c4a0e6e376af",
   "metadata": {
    "execution": {
     "iopub.execute_input": "2025-03-08T02:48:02.250438Z",
     "iopub.status.busy": "2025-03-08T02:48:02.250359Z"
    }
   },
   "outputs": [
    {
     "name": "stderr",
     "output_type": "stream",
     "text": [
      "  7%|██████████▋                                                                                                                                      | 2947/40000 [01:17<40:20, 15.31it/s]"
     ]
    }
   ],
   "source": [
    "for i in tqdm(range(n_episodes)):\n",
    "    total_reward = play_episode(clinic_env, agent)\n",
    "    writer.add_scalar(\"total reward\", total_reward, i)\n",
    "\n",
    "    agent.decay_epsilon()\n",
    "    # agent.update_lr()\n",
    "\n",
    "    # writer.add_scalar(\"Learning rate\", agent.scheduler.get_last_lr()[0], i)"
   ]
  },
  {
   "cell_type": "code",
   "execution_count": 9,
   "id": "9756dca3-ef70-4564-bf64-019d8b7a1de1",
   "metadata": {
    "execution": {
     "iopub.execute_input": "2025-03-04T10:34:20.902592Z",
     "iopub.status.busy": "2025-03-04T10:34:20.901335Z",
     "iopub.status.idle": "2025-03-04T10:34:20.980652Z",
     "shell.execute_reply": "2025-03-04T10:34:20.980431Z",
     "shell.execute_reply.started": "2025-03-04T10:34:20.902533Z"
    }
   },
   "outputs": [
    {
     "data": {
      "text/plain": [
       "tensor([[0.0203, 0.0300, 0.0089, 0.0069, 0.0222, 0.0128]], device='cuda:0',\n",
       "       grad_fn=<AddBackward0>)"
      ]
     },
     "execution_count": 9,
     "metadata": {},
     "output_type": "execute_result"
    }
   ],
   "source": [
    "obs, info = clinic_env.reset()\n",
    "\n",
    "obs_arr = gym.spaces.utils.flatten(clinic_env.nonterminal_normalized_observation_space, clinic_env.normalize_state(obs))\n",
    "obs_tensor = torch.tensor(obs_arr, dtype=torch.float32, device=\"cuda\").unsqueeze(0)\n",
    "agent.policy_net(obs_tensor)"
   ]
  },
  {
   "cell_type": "code",
   "execution_count": 10,
   "id": "6aa57e0a-eb8b-4cda-b855-af6d07e11229",
   "metadata": {
    "execution": {
     "iopub.execute_input": "2025-03-04T10:34:35.432391Z",
     "iopub.status.busy": "2025-03-04T10:34:35.432232Z",
     "iopub.status.idle": "2025-03-04T10:34:35.441304Z",
     "shell.execute_reply": "2025-03-04T10:34:35.441110Z",
     "shell.execute_reply.started": "2025-03-04T10:34:35.432382Z"
    }
   },
   "outputs": [
    {
     "name": "stdout",
     "output_type": "stream",
     "text": [
      "(tensor([[1]], device='cuda:0'), (0, {'nurse_turn': 0, 'nurses': ({'location': 1, 'operating_minutes_left': 0.0, 'traveling_minutes_left': 0.0, 'status': <NurseStatus.IDLE: 1>}, {'location': 1, 'operating_minutes_left': 0.0, 'traveling_minutes_left': 0.0, 'status': <NurseStatus.IDLE: 1>}, {'location': 1, 'operating_minutes_left': 0.0, 'traveling_minutes_left': 0.0, 'status': <NurseStatus.IDLE: 1>}), 'patients': ({'status': 1, 'treatment_time': 30.0, 'minutes_in_treatment': 0.0, 'treated_at': 0}, {'status': 1, 'treatment_time': 40.0, 'minutes_in_treatment': 0.0, 'treated_at': 0}, {'status': 1, 'treatment_time': 50.0, 'minutes_in_treatment': 0.0, 'treated_at': 0}), 'clinics': ({'capacity': 1.0, 'num_patients': 0.0}, {'capacity': 2.0, 'num_patients': 0.0})}))\n",
      "(tensor([[4]], device='cuda:0'), (0, {'nurse_turn': 1, 'nurses': ({'location': 1, 'operating_minutes_left': 15.0, 'traveling_minutes_left': 0.0, 'status': <NurseStatus.IN_OPERATION: 2>}, {'location': 1, 'operating_minutes_left': 0.0, 'traveling_minutes_left': 0.0, 'status': <NurseStatus.IDLE: 1>}, {'location': 1, 'operating_minutes_left': 0.0, 'traveling_minutes_left': 0.0, 'status': <NurseStatus.IDLE: 1>}), 'patients': ({'status': 2, 'treatment_time': 30.0, 'minutes_in_treatment': 0.0, 'treated_at': 1}, {'status': 1, 'treatment_time': 40.0, 'minutes_in_treatment': 0.0, 'treated_at': 0}, {'status': 1, 'treatment_time': 50.0, 'minutes_in_treatment': 0.0, 'treated_at': 0}), 'clinics': ({'capacity': 1.0, 'num_patients': 1.0}, {'capacity': 2.0, 'num_patients': 0.0})}))\n",
      "(tensor([[4]], device='cuda:0'), (0, {'nurse_turn': 2, 'nurses': ({'location': 1, 'operating_minutes_left': 15.0, 'traveling_minutes_left': 0.0, 'status': <NurseStatus.IN_OPERATION: 2>}, {'location': 1, 'operating_minutes_left': 0.0, 'traveling_minutes_left': 0.0, 'status': <NurseStatus.IDLE: 1>}, {'location': 1, 'operating_minutes_left': 0.0, 'traveling_minutes_left': 0.0, 'status': <NurseStatus.IDLE: 1>}), 'patients': ({'status': 2, 'treatment_time': 30.0, 'minutes_in_treatment': 0.0, 'treated_at': 1}, {'status': 1, 'treatment_time': 40.0, 'minutes_in_treatment': 0.0, 'treated_at': 0}, {'status': 1, 'treatment_time': 50.0, 'minutes_in_treatment': 0.0, 'treated_at': 0}), 'clinics': ({'capacity': 1.0, 'num_patients': 1.0}, {'capacity': 2.0, 'num_patients': 0.0})}))\n"
     ]
    }
   ],
   "source": [
    "obs, info = clinic_env.reset()\n",
    "\n",
    "action = agent.get_action(obs, randomize=False)\n",
    "print((action, obs))\n",
    "obs, _, _, _, _ = clinic_env.step(action.item())\n",
    "\n",
    "action = agent.get_action(obs, randomize=False)\n",
    "print((action, obs))\n",
    "obs, _, _, _, _ = clinic_env.step(action.item())\n",
    "\n",
    "action = agent.get_action(obs, randomize=False)\n",
    "print((action, obs))\n",
    "obs, _, _, _, _ = clinic_env.step(action.item())\n"
   ]
  },
  {
   "cell_type": "code",
   "execution_count": 55,
   "id": "51e436ab-1e9b-4294-a634-a59d5b09ecbf",
   "metadata": {
    "execution": {
     "iopub.execute_input": "2025-03-04T11:36:32.948139Z",
     "iopub.status.busy": "2025-03-04T11:36:32.947773Z",
     "iopub.status.idle": "2025-03-04T11:36:32.983165Z",
     "shell.execute_reply": "2025-03-04T11:36:32.982824Z",
     "shell.execute_reply.started": "2025-03-04T11:36:32.948132Z"
    }
   },
   "outputs": [
    {
     "name": "stdout",
     "output_type": "stream",
     "text": [
      "1\n",
      "4\n",
      "5\n",
      "0\n",
      "0\n",
      "0\n",
      "0\n",
      "0\n",
      "4\n",
      "1\n",
      "1\n",
      "0\n",
      "0\n",
      "0\n",
      "4\n",
      "0\n",
      "0\n",
      "4\n",
      "4\n",
      "2\n",
      "4\n",
      "5\n",
      "0\n",
      "0\n",
      "0\n",
      "0\n",
      "4\n",
      "3\n",
      "5\n",
      "0\n",
      "0\n",
      "0\n",
      "0\n",
      "0\n",
      "5\n",
      "2\n",
      "0\n",
      "5\n",
      "0\n",
      "4\n",
      "0\n",
      "0\n",
      "0\n",
      "0\n",
      "0\n",
      "0\n",
      "0\n",
      "0\n",
      "0\n",
      "3\n",
      "0\n",
      "0\n",
      "0\n",
      "0\n",
      "4\n",
      "0\n",
      "0\n"
     ]
    },
    {
     "data": {
      "text/plain": [
       "19.0"
      ]
     },
     "execution_count": 55,
     "metadata": {},
     "output_type": "execute_result"
    }
   ],
   "source": [
    "1.0 / play_episode(clinic_env, agent, randomize=False, update_model=False)"
   ]
  },
  {
   "cell_type": "code",
   "execution_count": 16,
   "id": "fa1b69a1-860d-4685-9e74-a7d665f1cdba",
   "metadata": {
    "execution": {
     "iopub.execute_input": "2025-03-04T01:29:23.292130Z",
     "iopub.status.busy": "2025-03-04T01:29:23.291752Z",
     "iopub.status.idle": "2025-03-04T01:29:23.312836Z",
     "shell.execute_reply": "2025-03-04T01:29:23.312355Z",
     "shell.execute_reply.started": "2025-03-04T01:29:23.292103Z"
    }
   },
   "outputs": [],
   "source": [
    "torch.save(agent.policy_net.state_dict(), \"policy_net.pt\")\n",
    "torch.save(agent.target_net.state_dict(), \"target_net.pt\")"
   ]
  },
  {
   "cell_type": "code",
   "execution_count": null,
   "id": "aca11ba4-8d3b-4376-9d31-1b089fc22e3d",
   "metadata": {},
   "outputs": [],
   "source": []
  }
 ],
 "metadata": {
  "kernelspec": {
   "display_name": "clinic",
   "language": "python",
   "name": "clinic"
  },
  "language_info": {
   "codemirror_mode": {
    "name": "ipython",
    "version": 3
   },
   "file_extension": ".py",
   "mimetype": "text/x-python",
   "name": "python",
   "nbconvert_exporter": "python",
   "pygments_lexer": "ipython3",
   "version": "3.12.3"
  }
 },
 "nbformat": 4,
 "nbformat_minor": 5
}
